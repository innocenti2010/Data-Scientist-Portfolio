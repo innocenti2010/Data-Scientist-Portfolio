{
 "cells": [
  {
   "cell_type": "markdown",
   "metadata": {
    "id": "jOlM4qGmTDpw"
   },
   "source": [
    "**📘 DESCRIZIONE:**\n",
    "\n",
    "---\n",
    "\n",
    "L’obiettivo di questo esercizio è creare un dataset sintetico di segnalazioni di incidenti aziendali, suddivisi in due categorie:\n",
    "\n",
    "- Urgenze (etichetta `0`)\n",
    "- Manutenzione (etichetta `1`)\n",
    "\n",
    "Poi, tramite data augmentation con sostituzione di sinonimi (usando WordNet di NLTK), si generano frasi varianti per aumentare la dimensione del dataset. Il risultato finale è un DataFrame Pandas con i testi originali e quelli modificati, pronti per essere usati in un modello di classificazione."
   ]
  },
  {
   "cell_type": "markdown",
   "metadata": {
    "id": "_0uJLSktTvfF"
   },
   "source": [
    "###**IMPORTO LIBRERIE**"
   ]
  },
  {
   "cell_type": "markdown",
   "metadata": {
    "id": "XbZrmWNNT5la"
   },
   "source": [
    "**OB:** Importare librerie\n",
    "- **random** -> operazioni casuali (es. scelta di sinonimi)\n",
    "- **ntk e wordnet** -> per ottenere sinonimi in italiano\n",
    "- **pandas** -> gestione dei dati tabellari\n",
    "- **torch** -> libreria Torch\n",
    "- **trasformes** -> modelli e tokenizzatori\n",
    "  * DistiBERT : Modello Trasformer perso da HuggingFace\n",
    "- **sklearn** -> split dataset e metriche di valutazione\n",
    "- **numpy** -> operazioni numeriche"
   ]
  },
  {
   "cell_type": "code",
   "execution_count": 22,
   "metadata": {},
   "outputs": [],
   "source": [
    "import random\n",
    "import nltk\n",
    "from nltk.corpus import wordnet\n",
    "import pandas as pd\n",
    "import torch\n",
    "from transformers import DistilBertForSequenceClassification, DistilBertTokenizer, Trainer, TrainingArguments\n",
    "from sklearn.model_selection import train_test_split\n",
    "from sklearn.metrics import accuracy_score, precision_recall_fscore_support\n",
    "import numpy as np"
   ]
  },
  {
   "cell_type": "markdown",
   "metadata": {
    "id": "2C318p6LVlzD"
   },
   "source": [
    "###**DOWNLOAD RISORSE NLTK (Natural Language Toolkit)**"
   ]
  },
  {
   "cell_type": "markdown",
   "metadata": {
    "id": "q-WHE2GfVw1p"
   },
   "source": [
    "**OB:** Scaricare i dizionari di WordNet (dizionario di sinonimi e contrari inglese) e le risorse multilingua (`omw-1.4`) per cercare sinonimi in italiano."
   ]
  },
  {
   "cell_type": "code",
   "execution_count": 23,
   "metadata": {},
   "outputs": [
    {
     "name": "stderr",
     "output_type": "stream",
     "text": [
      "[nltk_data] Downloading package wordnet to /root/nltk_data...\n",
      "[nltk_data]   Package wordnet is already up-to-date!\n",
      "[nltk_data] Downloading package omw-1.4 to /root/nltk_data...\n",
      "[nltk_data]   Package omw-1.4 is already up-to-date!\n"
     ]
    },
    {
     "data": {
      "text/plain": [
       "True"
      ]
     },
     "execution_count": 23,
     "metadata": {},
     "output_type": "execute_result"
    }
   ],
   "source": [
    "nltk.download('wordnet')\n",
    "nltk.download('omw-1.4')"
   ]
  },
  {
   "cell_type": "markdown",
   "metadata": {
    "id": "4VVrbQlPWZbO"
   },
   "source": [
    "###**CREAZIONE DI UN DATASET SINTETICO**"
   ]
  },
  {
   "cell_type": "markdown",
   "metadata": {
    "id": "CtCcLKtdWZbP"
   },
   "source": [
    "**OB:** Creare un dizionario Python con:\n",
    "- `text` → lista di frasi (50 urgenze + 50 manutenzioni).\n",
    "- `label` → lista di etichette (0 per urgenze, 1 per manutenzione)."
   ]
  },
  {
   "cell_type": "code",
   "execution_count": 24,
   "metadata": {},
   "outputs": [],
   "source": [
    "data = {\n",
    "    'text': [\n",
    "        # Urgenze (etichetta 0)\n",
    "        \"Allarme incendio al secondo piano\",\n",
    "        \"Emergenza medica nel reparto IT\",\n",
    "        \"Perdita di gas rilevata in laboratorio\",\n",
    "        \"Allarme intrusione nella sala server\",\n",
    "        \"Persona intrappolata nell'ascensore\",\n",
    "        \"Perdita di acqua nell'edificio\",\n",
    "        \"Sospetta fuga di gas nel garage\",\n",
    "        \"Tubo dell'acqua rotto nel giardino\",\n",
    "        \"Allagamento nella zona reception\",\n",
    "        \"Guasto elettrico nell'ufficio contabilità\",\n",
    "        \"Crollo di una parte del soffitto nella sala riunioni\",\n",
    "        \"Rumore sospetto proveniente dal seminterrato\",\n",
    "        \"Cortocircuito nell'armadio elettrico\",\n",
    "        \"Fumo avvistato nell'area del magazzino\",\n",
    "        \"Interruzione di corrente nell'edificio principale\",\n",
    "        \"Evacuazione dell'area dovuta a minaccia bomba\",\n",
    "        \"Attacco informatico in corso sulla rete aziendale\",\n",
    "        \"Persona con sintomi di soffocamento nell'ufficio marketing\",\n",
    "        \"Presenza di sostanza chimica sospetta nel laboratorio\",\n",
    "        \"Tubo del gas danneggiato nella mensa\",\n",
    "        \"Corto circuito nella sala controllo\",\n",
    "        \"Macchinario surriscaldato nel reparto produzione\",\n",
    "        \"Malore di un dipendente nell'ufficio HR\",\n",
    "        \"Segnale di fumo rilevato nel corridoio est\",\n",
    "        \"Perdita di gas tossico rilevata nei laboratori\",\n",
    "        \"Crollo di scaffalature nel magazzino centrale\",\n",
    "        \"Persona con ferite gravi nel parcheggio\",\n",
    "        \"Attivazione dell'allarme anti-intrusione nella reception\",\n",
    "        \"Allarme di emergenza chimica nella zona esterna\",\n",
    "        \"Persona in stato confusionale nel piano interrato\",\n",
    "        \"Allarme evacuazione attivato nel piano terra\",\n",
    "        \"Dispersione di fumi tossici nel reparto chimico\",\n",
    "        \"Interruzione del servizio di emergenza 112\",\n",
    "        \"Allarme nucleare nella zona di stoccaggio\",\n",
    "        \"Incendio di un veicolo nel parcheggio sotterraneo\",\n",
    "        \"Allarme per sospetto pacco sospetto all'ingresso\",\n",
    "        \"Interruzione del servizio idrico nell'edificio A\",\n",
    "        \"Persona intrappolata nel magazzino merci\",\n",
    "        \"Emergenza medica causata da ustioni nel laboratorio\",\n",
    "        \"Perdita di radiazioni nel laboratorio radioattivo\",\n",
    "        \"Esplosione avvenuta nella cucina aziendale\",\n",
    "        \"Malore improvviso di un cliente nella zona reception\",\n",
    "        \"Emergenza sanitaria per allergia alimentare in mensa\",\n",
    "        \"Inondazione nel seminterrato dell'edificio B\",\n",
    "        \"Evacuazione dovuta a incendio nella sala riunioni\",\n",
    "        \"Perdita di sostanze tossiche nel corridoio ovest\",\n",
    "        \"Incendio causato da cortocircuito nella zona archivi\",\n",
    "        \"Persona ferita da crollo di scaffale nel magazzino\",\n",
    "        \"Allarme antincendio attivato nel reparto spedizioni\",\n",
    "\n",
    "        # Manutenzione (etichetta 1)\n",
    "        \"Necessità di manutenzione all'ascensore\",\n",
    "        \"Luce rotta nel corridoio principale\",\n",
    "        \"Riparazione necessaria al cancello automatico\",\n",
    "        \"Tappeto da sostituire nella sala conferenze\",\n",
    "        \"Porte dell'ufficio da ricalibrare\",\n",
    "        \"Malfunzionamento del sistema di ventilazione\",\n",
    "        \"Finestra rotta nell'ufficio legale\",\n",
    "        \"Crepe nel muro della zona d'ingresso\",\n",
    "        \"Perdita d'acqua dal soffitto della cucina\",\n",
    "        \"Manutenzione programmata della rete elettrica\",\n",
    "        \"Pavimento del corridoio da riparare\",\n",
    "        \"Sostituzione del filtro dell'aria nel laboratorio\",\n",
    "        \"Riparazione delle poltrone nella sala attesa\",\n",
    "        \"Ristrutturazione della facciata dell'edificio\",\n",
    "        \"Tastiera non funzionante nella sala conferenze\",\n",
    "        \"Riparazione dei condizionatori nel reparto IT\",\n",
    "        \"Cablaggio della rete da rinnovare nel piano terra\",\n",
    "        \"Riparazione della porta scorrevole nella reception\",\n",
    "        \"Sostituzione delle tende nella mensa\",\n",
    "        \"Riparazione delle serrande nel magazzino\",\n",
    "        \"Sostituzione del cartongesso danneggiato nella sala riunioni\",\n",
    "        \"Rimozione delle erbacce dal giardino aziendale\",\n",
    "        \"Pulizia del sistema di ventilazione centralizzato\",\n",
    "        \"Controllo delle lampadine nel corridoio nord\",\n",
    "        \"Verifica del sistema di riscaldamento\",\n",
    "        \"Controllo del quadro elettrico nella zona archivi\",\n",
    "        \"Riparazione della serratura difettosa nell'ufficio HR\",\n",
    "        \"Sostituzione delle mattonelle nella zona ingresso\",\n",
    "        \"Manutenzione delle scale antincendio esterne\",\n",
    "        \"Pittura delle pareti del laboratorio\",\n",
    "        \"Rimozione di muffa dalle pareti del seminterrato\",\n",
    "        \"Sostituzione del quadro comandi del generatore\",\n",
    "        \"Pulizia delle grondaie nell'edificio B\",\n",
    "        \"Rimozione dei graffiti nella facciata esterna\",\n",
    "        \"Manutenzione degli estintori nell'ufficio legale\",\n",
    "        \"Riparazione delle tubature nell'area servizi\",\n",
    "        \"Controllo delle guarnizioni delle finestre\",\n",
    "        \"Installazione di nuovi sistemi di allarme\",\n",
    "        \"Manutenzione del generatore di emergenza\",\n",
    "        \"Sostituzione della moquette nella zona uffici\",\n",
    "        \"Verifica delle uscite di sicurezza nel magazzino\",\n",
    "        \"Riparazione del citofono all'ingresso principale\",\n",
    "        \"Pulizia delle ventole nel server della rete IT\",\n",
    "        \"Rimozione di ostacoli dalle vie di fuga\",\n",
    "        \"Verifica delle condizioni delle porte tagliafuoco\",\n",
    "        \"Ristrutturazione della sala mensa\",\n",
    "        \"Manutenzione ordinaria degli impianti elettrici\",\n",
    "        \"Sostituzione delle plafoniere nel piano terra\",\n",
    "        \"Riparazione delle mattonelle danneggiate nel cortile\",\n",
    "        \"Riparazione dell'ascensore nel magazzino\",\n",
    "        \"Sostituzione del pannello danneggiato nel corridoio\"\n",
    "    ],\n",
    "    'label': [0] * 50 + [1] * 50\n",
    "}"
   ]
  },
  {
   "cell_type": "markdown",
   "metadata": {
    "id": "nPYc9k_tXPqI"
   },
   "source": [
    "###**FUNZIONE PER TROVARE SINONIMI**"
   ]
  },
  {
   "cell_type": "markdown",
   "metadata": {
    "id": "5N9i2Wg8XPqJ"
   },
   "source": [
    "**OB:** Cerca i sinonimi di una parola in italiano usando WordNet.\n",
    "**Funzioni**:\n",
    "- `wordnet.synsets(word, lang='ita')` → trova i set di significati (synset) per la parola.\n",
    "- `syn.lemmas(lang='ita')` → ottiene i lemmi (forme della parola) in italiano.\n",
    "- `lemma.name()` → restituisce il testo del lemma."
   ]
  },
  {
   "cell_type": "code",
   "execution_count": 25,
   "metadata": {},
   "outputs": [],
   "source": [
    "def get_synonyms(word):\n",
    "    synonyms = set()\n",
    "    for syn in wordnet.synsets(word, lang='ita'):\n",
    "        for lemma in syn.lemmas(lang='ita'):\n",
    "            synonyms.add(lemma.name())\n",
    "    return list(synonyms)\n"
   ]
  },
  {
   "cell_type": "markdown",
   "metadata": {
    "id": "pVcQBu5tY2nO"
   },
   "source": [
    "###**FUNZIONE DI DATA AUGMENTATION**"
   ]
  },
  {
   "cell_type": "markdown",
   "metadata": {
    "id": "v0CAD08oY2nP"
   },
   "source": [
    "**OB:** Prende una frase e sostituisce fino a `n` parole con sinonimi."
   ]
  },
  {
   "cell_type": "code",
   "execution_count": 26,
   "metadata": {},
   "outputs": [],
   "source": [
    "def synonym_replacement(sentence, n=2):\n",
    "    words = sentence.split()\n",
    "    #sentence.split(..) ->> divide sentence in 2 words\n",
    "    random_words = list(set(words))\n",
    "    random.shuffle(random_words)\n",
    "    #random-.shuffle(..) ->> Mix up the order of the candidate words\n",
    "    num_replaced = 0\n",
    "    new_sentence = words.copy()\n",
    "\n",
    "    for random_word in random_words:\n",
    "        synonyms = get_synonyms(random_word)\n",
    "        #get.synonyms(..) ->> get the synonims of a word (Preaviously created function)\n",
    "        if len(synonyms) > 0:\n",
    "            synonym = random.choice(synonyms)\n",
    "            #random.choice(..) ->> choose in random order\n",
    "            new_sentence = [synonym if word == random_word else word for word in new_sentence]\n",
    "            #new_sentence ->> substitute word with a random synonim\n",
    "            num_replaced += 1\n",
    "        if num_replaced >= n:\n",
    "            break\n",
    "\n",
    "    return ' '.join(new_sentence)\n"
   ]
  },
  {
   "cell_type": "markdown",
   "metadata": {
    "id": "ZM2vgOBqYadI"
   },
   "source": [
    "###**CREAZIONE DATASET AUMENTATO**"
   ]
  },
  {
   "cell_type": "markdown",
   "metadata": {
    "id": "zfOSH2IJYadL"
   },
   "source": [
    "**OB:** Creare un nuovo dataset che contiene:\n",
    "- La frase originale.\n",
    "- Una versione modificata con sinonimi."
   ]
  },
  {
   "cell_type": "code",
   "execution_count": 27,
   "metadata": {},
   "outputs": [],
   "source": [
    "augmented_data = {'text': [], 'label': []}\n",
    "\n",
    "for text, label in zip(data['text'], data['label']):\n",
    "  #zip(..) ->> iterate on text & label togheter\n",
    "    augmented_data['text'].append(text)\n",
    "    augmented_data['label'].append(label)\n",
    "\n",
    "    new_text = synonym_replacement(text)\n",
    "    #synonym_replacement(..) ->> create tha modified sentence\n",
    "    augmented_data['text'].append(new_text)\n",
    "    augmented_data['label'].append(label)\n"
   ]
  },
  {
   "cell_type": "markdown",
   "metadata": {
    "id": "IAh3ORA-byz_"
   },
   "source": [
    "###**CREAZIONE DI UN DATAFRAME FINALE**"
   ]
  },
  {
   "cell_type": "markdown",
   "metadata": {
    "id": "Vn39NZp2by0A"
   },
   "source": [
    "**OB:** Converte il dizionario `augmented_data` in un DataFrame Pandas, pronto per l’uso in addestramento."
   ]
  },
  {
   "cell_type": "code",
   "execution_count": 28,
   "metadata": {},
   "outputs": [],
   "source": [
    "df = pd.DataFrame(augmented_data)"
   ]
  },
  {
   "cell_type": "markdown",
   "metadata": {
    "id": "oPwC0H4oc39v"
   },
   "source": [
    "###**SUDDIVISIONE DEL DATASET**"
   ]
  },
  {
   "cell_type": "markdown",
   "metadata": {
    "id": "MqS7hJDSc39y"
   },
   "source": [
    "**OB:** Dividere il dataset in:\n",
    "- Train (60%)\n",
    "- Validation (20%)\n",
    "- Test (20%)"
   ]
  },
  {
   "cell_type": "code",
   "execution_count": 29,
   "metadata": {},
   "outputs": [],
   "source": [
    "train_texts, temp_texts, train_labels, temp_labels = train_test_split(\n",
    "    df['text'], df['label'], test_size=0.4, random_state=42\n",
    ")\n",
    "val_texts, test_texts, val_labels, test_labels = train_test_split(\n",
    "    temp_texts, temp_labels, test_size=0.5, random_state=42\n",
    ")\n",
    "#train_test_split(...) ->> of scikit-learn , divide data in random way but reproductible (random_state=42)"
   ]
  },
  {
   "cell_type": "markdown",
   "metadata": {
    "id": "dU4ScTlVdkHL"
   },
   "source": [
    "###**PREPARAZIONE DEL TOKENIZER**"
   ]
  },
  {
   "cell_type": "markdown",
   "metadata": {
    "id": "Q-RHPoHedkHN"
   },
   "source": [
    "**OB:** Caricare il tokenizer pre‑addestrato di **DistilBERT** (versione uncased → tutto minuscolo)."
   ]
  },
  {
   "cell_type": "code",
   "execution_count": 30,
   "metadata": {},
   "outputs": [],
   "source": [
    "tokenizer = DistilBertTokenizer.from_pretrained('distilbert-base-uncased')\n",
    "#.from_pretrained(..) ->> download & upload tokenizer by Model Hub"
   ]
  },
  {
   "cell_type": "markdown",
   "metadata": {
    "id": "1NdXjvUIeExu"
   },
   "source": [
    "###**FUNZIONE DI TOKENIZZAZIONE**"
   ]
  },
  {
   "cell_type": "markdown",
   "metadata": {
    "id": "rHkesK30eExv"
   },
   "source": [
    "**OB:** Definire una funzione per convertire le frasi in input numerici per il modello.\n"
   ]
  },
  {
   "cell_type": "code",
   "execution_count": 31,
   "metadata": {},
   "outputs": [],
   "source": [
    "def tokenize_function(texts):\n",
    "    return tokenizer(\n",
    "        texts,\n",
    "        padding=\"max_length\",\n",
    "        #padding = \"max_lenght\" ->> every sequence has the same lenght\n",
    "        truncation=True,\n",
    "        #truncation=True ->> divide sentences too loong\n",
    "        max_length=64,\n",
    "        #max_lenght=64 ->> max lenght in token\n",
    "        return_tensors=\"pt\"\n",
    "        #return_tensors=pt ->> return tensors Pytorch\n",
    "    )\n"
   ]
  },
  {
   "cell_type": "markdown",
   "metadata": {
    "id": "bo6JzQP5ezh1"
   },
   "source": [
    "###**TOKENIZZAZIONE DEL SET**"
   ]
  },
  {
   "cell_type": "markdown",
   "metadata": {
    "id": "4Yq6yjH_ezh3"
   },
   "source": [
    "**OB:** Applicare la funzione di tokenizzazione a train, validation e test set\n"
   ]
  },
  {
   "cell_type": "code",
   "execution_count": 32,
   "metadata": {},
   "outputs": [],
   "source": [
    "train_encodings = tokenize_function(train_texts.to_list())\n",
    "val_encodings = tokenize_function(val_texts.to_list())\n",
    "test_encodings = tokenize_function(test_texts.to_list())\n"
   ]
  },
  {
   "cell_type": "markdown",
   "metadata": {
    "id": "Fl1XiEIffEbF"
   },
   "source": [
    "###**CREAZIONE DATASET PYTORCH**"
   ]
  },
  {
   "cell_type": "markdown",
   "metadata": {
    "id": "NNL61_QcfEbF"
   },
   "source": [
    "**OB:** Creare una classe custom `IncidentDataset` per gestire il dataset in PyTorch."
   ]
  },
  {
   "cell_type": "code",
   "execution_count": 33,
   "metadata": {},
   "outputs": [],
   "source": [
    "class IncidentDataset(torch.utils.data.Dataset):\n",
    "    def __init__(self, encodings, labels):\n",
    "        self.encodings = encodings\n",
    "        self.labels = labels\n",
    "\n",
    "    def __getitem__(self, idx):\n",
    "      #__getitem__(..) ->> return one single example (input+label) by an index idx\n",
    "        item = {key: val[idx].clone().detach() for key, val in self.encodings.items()}\n",
    "        item['labels'] = torch.tensor(self.labels[idx])\n",
    "        return item\n",
    "    #self.encodings.items(...) ->> take tokenizer tensors (as input_ids, attention_mask) created from DistilBERT tokenizer.\n",
    "    #val[idx].clone().detach() ->> For every tensor , take example from index idx , and clone it to prevent changes and divide it from computational graph.\n",
    "    #item['labels'] = torch.tensor(self.labels[idx]) ->> Adds the label corresponding to the example, converting it into a PyTorch tensor.\n",
    "    #item ->> return a dictionary with input and labels , ready to use into the model.\n",
    "\n",
    "\n",
    "    def __len__(self):\n",
    "        return len(self.labels)\n",
    "    #__len__(..) ->> total number of examples\n"
   ]
  },
  {
   "cell_type": "markdown",
   "metadata": {
    "id": "-oYGsOlLZhP3"
   },
   "source": [
    "###**ISTANZE DEI DATASET**"
   ]
  },
  {
   "cell_type": "markdown",
   "metadata": {
    "id": "Ww9VgwNNZhQA"
   },
   "source": [
    "**OB:** Crei i dataset PyTorch per train, validation e test."
   ]
  },
  {
   "cell_type": "code",
   "execution_count": 34,
   "metadata": {},
   "outputs": [],
   "source": [
    "train_dataset = IncidentDataset(train_encodings, train_labels.tolist())\n",
    "val_dataset = IncidentDataset(val_encodings, val_labels.tolist())\n",
    "test_dataset = IncidentDataset(test_encodings, test_labels.tolist())"
   ]
  },
  {
   "cell_type": "markdown",
   "metadata": {
    "id": "MxoAQ6I6ZsCT"
   },
   "source": [
    "###**DEFINIZIONE DEL MODELLO**"
   ]
  },
  {
   "cell_type": "markdown",
   "metadata": {
    "id": "xQxB4wstZsCU"
   },
   "source": [
    "**OB:** Caricare il modello DistilBERT per classificare le sequenze\n",
    "\n"
   ]
  },
  {
   "cell_type": "code",
   "execution_count": 35,
   "metadata": {},
   "outputs": [
    {
     "name": "stderr",
     "output_type": "stream",
     "text": [
      "Some weights of DistilBertForSequenceClassification were not initialized from the model checkpoint at distilbert-base-uncased and are newly initialized: ['classifier.bias', 'classifier.weight', 'pre_classifier.bias', 'pre_classifier.weight']\n",
      "You should probably TRAIN this model on a down-stream task to be able to use it for predictions and inference.\n"
     ]
    }
   ],
   "source": [
    "model = DistilBertForSequenceClassification.from_pretrained(\n",
    "    \"distilbert-base-uncased\",\n",
    "    num_labels=2\n",
    ")\n",
    "#num_labels=2 ->> load 2 classes (urgenza / manutenzione)\n"
   ]
  },
  {
   "cell_type": "markdown",
   "metadata": {
    "id": "NZFUtYNXaSCM"
   },
   "source": [
    "###**ARGOMENTI DI TRAINING**"
   ]
  },
  {
   "cell_type": "markdown",
   "metadata": {
    "id": "rcuUptGRaSCN"
   },
   "source": [
    "**OB:** Imposti i parametri di addestramento:\n",
    "-` output_dir` → cartella per salvare risultati.\n",
    "- `eval_strategy=\"epoch\"` → valuta a fine di ogni epoca.\n",
    "- `learning_rate=1e-5` → passo di apprendimento.\n",
    "- `per_device_train_batch_size / per_device_eval_batch_size` → batch size.\n",
    "- `num_train_epochs=10 `→ numero di epoche.\n",
    "- `weight_decay=0.01` → regolarizzazione.\n",
    "\n"
   ]
  },
  {
   "cell_type": "code",
   "execution_count": 36,
   "metadata": {},
   "outputs": [],
   "source": [
    "training_args = TrainingArguments(\n",
    "    output_dir=\"./results\",\n",
    "    eval_strategy=\"epoch\",\n",
    "    learning_rate=1e-5,\n",
    "    per_device_train_batch_size=2,\n",
    "    per_device_eval_batch_size=2,\n",
    "    num_train_epochs=10,\n",
    "    weight_decay=0.01,\n",
    "    report_to=\"none\" # Disable reporting to Weights & Biases\n",
    ")"
   ]
  },
  {
   "cell_type": "markdown",
   "metadata": {
    "id": "8GbPMVi8bYT7"
   },
   "source": [
    "###**FUNZIONI METRICHE**"
   ]
  },
  {
   "cell_type": "markdown",
   "metadata": {
    "id": "hxuzJ4V8bYT8"
   },
   "source": [
    "**OB:** Calcolo metrice di valutazione:\n",
    "- Accuracy : % predizione corrette sul tot.\n",
    "- Precision : Quanto volte il modello riesce a predire al giusta classe.\n",
    "- Recall : Quante volte il modello riesce a trovare tutti gli esempi di una classe.\n",
    "- F1-score : Media armonica tra Precision e Recall.\n"
   ]
  },
  {
   "cell_type": "code",
   "execution_count": 37,
   "metadata": {},
   "outputs": [],
   "source": [
    "def compute_metrics(pred):\n",
    "    labels = pred.label_ids\n",
    "    preds = np.argmax(pred.predictions, axis=1)\n",
    "    #np.argmax(..) ->> class with higher probability\n",
    "    precision, recall, f1, _ = precision_recall_fscore_support(\n",
    "        labels, preds, average='weighted'\n",
    "    )\n",
    "    #precision_recall_fscore_support(..) ->> classifications metrics\n",
    "    acc = accuracy_score(labels, preds)\n",
    "    #accuracy_score(..) ->> accuracy\n",
    "    return {\n",
    "        \"accuracy\": acc,\n",
    "        \"f1\": f1,\n",
    "        \"precision\": precision,\n",
    "        \"recall\": recall\n",
    "    }\n"
   ]
  },
  {
   "cell_type": "markdown",
   "metadata": {
    "id": "ghGlQo-OfyKo"
   },
   "source": [
    "###**CREAZIONE DEL TRAINER**"
   ]
  },
  {
   "cell_type": "markdown",
   "metadata": {
    "id": "lPEFVnUwfyKv"
   },
   "source": [
    "**OB:** Crea un oggetto `Trainer` di Hugging Face per gestire addestramento e valutazione.\n",
    "\n"
   ]
  },
  {
   "cell_type": "code",
   "execution_count": 38,
   "metadata": {},
   "outputs": [],
   "source": [
    "trainer = Trainer(\n",
    "    model=model,\n",
    "    args=training_args,\n",
    "    train_dataset=train_dataset,\n",
    "    eval_dataset=val_dataset,\n",
    "    compute_metrics=compute_metrics,\n",
    ")\n"
   ]
  },
  {
   "cell_type": "markdown",
   "metadata": {
    "id": "IJp1flHnghKv"
   },
   "source": [
    "###**ADDESTRAMENTO**"
   ]
  },
  {
   "cell_type": "markdown",
   "metadata": {
    "id": "yQZmdgScghKv"
   },
   "source": [
    "**OB:** Avvia il processo di training del modello.\n",
    "\n"
   ]
  },
  {
   "cell_type": "code",
   "execution_count": 39,
   "metadata": {},
   "outputs": [
    {
     "name": "stderr",
     "output_type": "stream",
     "text": [
      "/usr/local/lib/python3.12/dist-packages/torch/utils/data/dataloader.py:666: UserWarning: 'pin_memory' argument is set as true but no accelerator is found, then device pinned memory won't be used.\n",
      "  warnings.warn(warn_msg)\n"
     ]
    },
    {
     "data": {
      "text/html": [
       "\n",
       "    <div>\n",
       "      \n",
       "      <progress value='600' max='600' style='width:300px; height:20px; vertical-align: middle;'></progress>\n",
       "      [600/600 12:01, Epoch 10/10]\n",
       "    </div>\n",
       "    <table border=\"1\" class=\"dataframe\">\n",
       "  <thead>\n",
       " <tr style=\"text-align: left;\">\n",
       "      <th>Epoch</th>\n",
       "      <th>Training Loss</th>\n",
       "      <th>Validation Loss</th>\n",
       "      <th>Accuracy</th>\n",
       "      <th>F1</th>\n",
       "      <th>Precision</th>\n",
       "      <th>Recall</th>\n",
       "    </tr>\n",
       "  </thead>\n",
       "  <tbody>\n",
       "    <tr>\n",
       "      <td>1</td>\n",
       "      <td>No log</td>\n",
       "      <td>0.549576</td>\n",
       "      <td>0.700000</td>\n",
       "      <td>0.671429</td>\n",
       "      <td>0.712500</td>\n",
       "      <td>0.700000</td>\n",
       "    </tr>\n",
       "    <tr>\n",
       "      <td>2</td>\n",
       "      <td>No log</td>\n",
       "      <td>0.511646</td>\n",
       "      <td>0.825000</td>\n",
       "      <td>0.825790</td>\n",
       "      <td>0.827621</td>\n",
       "      <td>0.825000</td>\n",
       "    </tr>\n",
       "    <tr>\n",
       "      <td>3</td>\n",
       "      <td>No log</td>\n",
       "      <td>0.401226</td>\n",
       "      <td>0.850000</td>\n",
       "      <td>0.850000</td>\n",
       "      <td>0.850000</td>\n",
       "      <td>0.850000</td>\n",
       "    </tr>\n",
       "    <tr>\n",
       "      <td>4</td>\n",
       "      <td>No log</td>\n",
       "      <td>0.481232</td>\n",
       "      <td>0.900000</td>\n",
       "      <td>0.901010</td>\n",
       "      <td>0.920000</td>\n",
       "      <td>0.900000</td>\n",
       "    </tr>\n",
       "    <tr>\n",
       "      <td>5</td>\n",
       "      <td>No log</td>\n",
       "      <td>0.565593</td>\n",
       "      <td>0.900000</td>\n",
       "      <td>0.901010</td>\n",
       "      <td>0.920000</td>\n",
       "      <td>0.900000</td>\n",
       "    </tr>\n",
       "    <tr>\n",
       "      <td>6</td>\n",
       "      <td>No log</td>\n",
       "      <td>0.463304</td>\n",
       "      <td>0.875000</td>\n",
       "      <td>0.876190</td>\n",
       "      <td>0.887218</td>\n",
       "      <td>0.875000</td>\n",
       "    </tr>\n",
       "    <tr>\n",
       "      <td>7</td>\n",
       "      <td>No log</td>\n",
       "      <td>0.549671</td>\n",
       "      <td>0.900000</td>\n",
       "      <td>0.901010</td>\n",
       "      <td>0.920000</td>\n",
       "      <td>0.900000</td>\n",
       "    </tr>\n",
       "    <tr>\n",
       "      <td>8</td>\n",
       "      <td>No log</td>\n",
       "      <td>0.589776</td>\n",
       "      <td>0.900000</td>\n",
       "      <td>0.901010</td>\n",
       "      <td>0.920000</td>\n",
       "      <td>0.900000</td>\n",
       "    </tr>\n",
       "    <tr>\n",
       "      <td>9</td>\n",
       "      <td>0.160600</td>\n",
       "      <td>0.602831</td>\n",
       "      <td>0.900000</td>\n",
       "      <td>0.901010</td>\n",
       "      <td>0.920000</td>\n",
       "      <td>0.900000</td>\n",
       "    </tr>\n",
       "    <tr>\n",
       "      <td>10</td>\n",
       "      <td>0.160600</td>\n",
       "      <td>0.600104</td>\n",
       "      <td>0.900000</td>\n",
       "      <td>0.901010</td>\n",
       "      <td>0.920000</td>\n",
       "      <td>0.900000</td>\n",
       "    </tr>\n",
       "  </tbody>\n",
       "</table><p>"
      ],
      "text/plain": [
       "<IPython.core.display.HTML object>"
      ]
     },
     "metadata": {},
     "output_type": "display_data"
    },
    {
     "name": "stderr",
     "output_type": "stream",
     "text": [
      "/usr/local/lib/python3.12/dist-packages/torch/utils/data/dataloader.py:666: UserWarning: 'pin_memory' argument is set as true but no accelerator is found, then device pinned memory won't be used.\n",
      "  warnings.warn(warn_msg)\n",
      "/usr/local/lib/python3.12/dist-packages/torch/utils/data/dataloader.py:666: UserWarning: 'pin_memory' argument is set as true but no accelerator is found, then device pinned memory won't be used.\n",
      "  warnings.warn(warn_msg)\n",
      "/usr/local/lib/python3.12/dist-packages/torch/utils/data/dataloader.py:666: UserWarning: 'pin_memory' argument is set as true but no accelerator is found, then device pinned memory won't be used.\n",
      "  warnings.warn(warn_msg)\n",
      "/usr/local/lib/python3.12/dist-packages/torch/utils/data/dataloader.py:666: UserWarning: 'pin_memory' argument is set as true but no accelerator is found, then device pinned memory won't be used.\n",
      "  warnings.warn(warn_msg)\n",
      "/usr/local/lib/python3.12/dist-packages/torch/utils/data/dataloader.py:666: UserWarning: 'pin_memory' argument is set as true but no accelerator is found, then device pinned memory won't be used.\n",
      "  warnings.warn(warn_msg)\n",
      "/usr/local/lib/python3.12/dist-packages/torch/utils/data/dataloader.py:666: UserWarning: 'pin_memory' argument is set as true but no accelerator is found, then device pinned memory won't be used.\n",
      "  warnings.warn(warn_msg)\n",
      "/usr/local/lib/python3.12/dist-packages/torch/utils/data/dataloader.py:666: UserWarning: 'pin_memory' argument is set as true but no accelerator is found, then device pinned memory won't be used.\n",
      "  warnings.warn(warn_msg)\n",
      "/usr/local/lib/python3.12/dist-packages/torch/utils/data/dataloader.py:666: UserWarning: 'pin_memory' argument is set as true but no accelerator is found, then device pinned memory won't be used.\n",
      "  warnings.warn(warn_msg)\n",
      "/usr/local/lib/python3.12/dist-packages/torch/utils/data/dataloader.py:666: UserWarning: 'pin_memory' argument is set as true but no accelerator is found, then device pinned memory won't be used.\n",
      "  warnings.warn(warn_msg)\n",
      "/usr/local/lib/python3.12/dist-packages/torch/utils/data/dataloader.py:666: UserWarning: 'pin_memory' argument is set as true but no accelerator is found, then device pinned memory won't be used.\n",
      "  warnings.warn(warn_msg)\n",
      "/usr/local/lib/python3.12/dist-packages/torch/utils/data/dataloader.py:666: UserWarning: 'pin_memory' argument is set as true but no accelerator is found, then device pinned memory won't be used.\n",
      "  warnings.warn(warn_msg)\n"
     ]
    },
    {
     "data": {
      "text/plain": [
       "TrainOutput(global_step=600, training_loss=0.1342789645989736, metrics={'train_runtime': 726.4328, 'train_samples_per_second': 1.652, 'train_steps_per_second': 0.826, 'total_flos': 19870109798400.0, 'train_loss': 0.1342789645989736, 'epoch': 10.0})"
      ]
     },
     "execution_count": 39,
     "metadata": {},
     "output_type": "execute_result"
    }
   ],
   "source": [
    "trainer.train()"
   ]
  },
  {
   "cell_type": "markdown",
   "metadata": {
    "id": "YKCAo9KLmJwl"
   },
   "source": [
    "###**VALUTAZIONE DEL TEST SET**"
   ]
  },
  {
   "cell_type": "markdown",
   "metadata": {
    "id": "IIfUP3ZbmJwn"
   },
   "source": [
    "**OB:** Valutare il modello sul set e stampare le metriche\n",
    "\n"
   ]
  },
  {
   "cell_type": "code",
   "execution_count": 40,
   "metadata": {},
   "outputs": [
    {
     "name": "stderr",
     "output_type": "stream",
     "text": [
      "/usr/local/lib/python3.12/dist-packages/torch/utils/data/dataloader.py:666: UserWarning: 'pin_memory' argument is set as true but no accelerator is found, then device pinned memory won't be used.\n",
      "  warnings.warn(warn_msg)\n"
     ]
    },
    {
     "data": {
      "text/html": [
       "\n",
       "    <div>\n",
       "      \n",
       "      <progress value='20' max='20' style='width:300px; height:20px; vertical-align: middle;'></progress>\n",
       "      [20/20 00:07]\n",
       "    </div>\n",
       "    "
      ],
      "text/plain": [
       "<IPython.core.display.HTML object>"
      ]
     },
     "metadata": {},
     "output_type": "display_data"
    },
    {
     "name": "stdout",
     "output_type": "stream",
     "text": [
      "Risultati di valutazione sul set di test: {'eval_loss': 0.578845202922821, 'eval_accuracy': 0.9, 'eval_f1': 0.9, 'eval_precision': 0.9, 'eval_recall': 0.9, 'eval_runtime': 7.8535, 'eval_samples_per_second': 5.093, 'eval_steps_per_second': 2.547, 'epoch': 10.0}\n"
     ]
    }
   ],
   "source": [
    "metrics = trainer.evaluate(test_dataset)\n",
    "print(f\"Risultati di valutazione sul set di test: {metrics}\")\n"
   ]
  },
  {
   "cell_type": "markdown",
   "metadata": {
    "id": "91FNK9Y_mhTG"
   },
   "source": [
    "###**PREDIZIONE DEL TEST SET**"
   ]
  },
  {
   "cell_type": "markdown",
   "metadata": {
    "id": "OMItlwbumhTH"
   },
   "source": [
    "**OB:** Generare predizioni sul test set e prendere la classe con probabilità + alta.\n",
    "\n",
    "\n",
    "\n"
   ]
  },
  {
   "cell_type": "code",
   "execution_count": 41,
   "metadata": {},
   "outputs": [
    {
     "name": "stderr",
     "output_type": "stream",
     "text": [
      "/usr/local/lib/python3.12/dist-packages/torch/utils/data/dataloader.py:666: UserWarning: 'pin_memory' argument is set as true but no accelerator is found, then device pinned memory won't be used.\n",
      "  warnings.warn(warn_msg)\n"
     ]
    },
    {
     "data": {
      "text/html": [],
      "text/plain": [
       "<IPython.core.display.HTML object>"
      ]
     },
     "metadata": {},
     "output_type": "display_data"
    }
   ],
   "source": [
    "predictions = trainer.predict(test_dataset)\n",
    "pred_labels = np.argmax(predictions.predictions, axis=1)\n",
    "#np.argmasx(..) ->> take index of valure higher -> predicted class"
   ]
  },
  {
   "cell_type": "markdown",
   "metadata": {
    "id": "4NUOS0M3nbtX"
   },
   "source": [
    "###**ACCURATEZZA FINALE**"
   ]
  },
  {
   "cell_type": "markdown",
   "metadata": {
    "id": "IpsdqfgEnbtX"
   },
   "source": [
    "**OB:** Calcolare e stampare l'accuratezza percentuale\n",
    "\n"
   ]
  },
  {
   "cell_type": "code",
   "execution_count": 42,
   "metadata": {},
   "outputs": [
    {
     "name": "stdout",
     "output_type": "stream",
     "text": [
      "Accuratezza sul set di test: 90.00%\n"
     ]
    }
   ],
   "source": [
    "accuracy = accuracy_score(test_labels, pred_labels)\n",
    "print(f\"Accuratezza sul set di test: {accuracy * 100:.2f}%\")\n"
   ]
  },
  {
   "cell_type": "markdown",
   "metadata": {
    "id": "H16PL11wnvX3"
   },
   "source": [
    "###**VISUALIZZAZIONE DEI RISULTATI**"
   ]
  },
  {
   "cell_type": "markdown",
   "metadata": {
    "id": "Ns86q7KGnvX3"
   },
   "source": [
    "**OB:** Mostri per ogni frase:\n",
    "- Testo originale\n",
    "- Etichetta reale\n",
    "- Predizione del modello\n"
   ]
  },
  {
   "cell_type": "code",
   "execution_count": 43,
   "metadata": {},
   "outputs": [
    {
     "name": "stdout",
     "output_type": "stream",
     "text": [
      "Testo: anima intrappolata nell'ascensore --> Etichetta reale: Urgenza --> Predizione: Urgenza\n",
      "Testo: Persona ferita da crac di scansia nel magazzino --> Etichetta reale: Urgenza --> Predizione: Urgenza\n",
      "Testo: Controllo del quadro elettrico nella zona archivi --> Etichetta reale: Manutenzione --> Predizione: Manutenzione\n",
      "Testo: Guasto elettrico nell'ufficio contabilità --> Etichetta reale: Urgenza --> Predizione: Urgenza\n",
      "Testo: Malore improvviso di un cliente nella zona reception --> Etichetta reale: Urgenza --> Predizione: Urgenza\n",
      "Testo: riorganizzazione della esteriorità dell'edificio --> Etichetta reale: Manutenzione --> Predizione: Manutenzione\n",
      "Testo: Allarme nucleare nella zona di stoccaggio --> Etichetta reale: Urgenza --> Predizione: Urgenza\n",
      "Testo: crollo di scaffalature nel rifornimenti centrale --> Etichetta reale: Urgenza --> Predizione: Urgenza\n",
      "Testo: Riparazione dei condizionatori nel reparto IT --> Etichetta reale: Manutenzione --> Predizione: Manutenzione\n",
      "Testo: resezione dei graffito nella facciata esterna --> Etichetta reale: Manutenzione --> Predizione: Urgenza\n",
      "Testo: Inondazione nel seminterrato dell'edificio B --> Etichetta reale: Urgenza --> Predizione: Urgenza\n",
      "Testo: gente intrappolata nel rifornimenti merci --> Etichetta reale: Urgenza --> Predizione: Urgenza\n",
      "Testo: Ristrutturazione della salotto mensa --> Etichetta reale: Manutenzione --> Predizione: Manutenzione\n",
      "Testo: Tappeto da sostituire nella sala conferenze --> Etichetta reale: Manutenzione --> Predizione: Manutenzione\n",
      "Testo: Perdita di sostanze tossiche nel corridoio ovest --> Etichetta reale: Urgenza --> Predizione: Urgenza\n",
      "Testo: rassettatura delle mattonelle danneggiate nel cortile --> Etichetta reale: Manutenzione --> Predizione: Manutenzione\n",
      "Testo: Corto circuito nella salotto vigilanza --> Etichetta reale: Urgenza --> Predizione: Urgenza\n",
      "Testo: smarrimento antincendio attivato nel reparto spedizioni --> Etichetta reale: Urgenza --> Predizione: Urgenza\n",
      "Testo: discontinuità del servizio idrico nell'edificio A --> Etichetta reale: Urgenza --> Predizione: Urgenza\n",
      "Testo: Perdita di radiazioni nel gabinetto radioattivo --> Etichetta reale: Urgenza --> Predizione: Urgenza\n",
      "Testo: malore di un dipendente nell'ufficio HR --> Etichetta reale: Urgenza --> Predizione: Urgenza\n",
      "Testo: popolazione con sintomi di strangolamento nell'ufficio marketing --> Etichetta reale: Urgenza --> Predizione: Manutenzione\n",
      "Testo: Perdita d'acqua dal cielo della cucina --> Etichetta reale: Manutenzione --> Predizione: Manutenzione\n",
      "Testo: Guasto elettrico nell'ufficio contabilità --> Etichetta reale: Urgenza --> Predizione: Urgenza\n",
      "Testo: Riparazione della serratura difettosa nell'ufficio HR --> Etichetta reale: Manutenzione --> Predizione: Manutenzione\n",
      "Testo: deiezione dell'area dovuta a minaccia bomba --> Etichetta reale: Urgenza --> Predizione: Manutenzione\n",
      "Testo: Tubo del gas danneggiato nella mensa --> Etichetta reale: Urgenza --> Predizione: Urgenza\n",
      "Testo: manutenzione programmata della porta elettrica --> Etichetta reale: Manutenzione --> Predizione: Manutenzione\n",
      "Testo: Allarme di emergenza chimica nella zona esterna --> Etichetta reale: Urgenza --> Predizione: Urgenza\n",
      "Testo: Emergenza medica causata da ustioni nel laboratorio --> Etichetta reale: Urgenza --> Predizione: Urgenza\n",
      "Testo: Rimozione delle erbacce dal giardino aziendale --> Etichetta reale: Manutenzione --> Predizione: Manutenzione\n",
      "Testo: finestra rotta nell'ufficio legale --> Etichetta reale: Manutenzione --> Predizione: Manutenzione\n",
      "Testo: Controllo delle guarnizioni delle finestre --> Etichetta reale: Manutenzione --> Predizione: Manutenzione\n",
      "Testo: Perdita d'acqua dal soffitto della cucina --> Etichetta reale: Manutenzione --> Predizione: Manutenzione\n",
      "Testo: Tastiera non funzionante nella sala conferenze --> Etichetta reale: Manutenzione --> Predizione: Urgenza\n",
      "Testo: Incendio di un veicolo nel parcheggio sotterraneo --> Etichetta reale: Urgenza --> Predizione: Urgenza\n",
      "Testo: Macchinario surriscaldato nel reparto produzione --> Etichetta reale: Urgenza --> Predizione: Urgenza\n",
      "Testo: Allarme evacuazione attivato nel piano terra --> Etichetta reale: Urgenza --> Predizione: Urgenza\n",
      "Testo: Riparazione delle poltrone nella sala attesa --> Etichetta reale: Manutenzione --> Predizione: Manutenzione\n",
      "Testo: Perdita di radiazioni nel laboratorio radioattivo --> Etichetta reale: Urgenza --> Predizione: Urgenza\n"
     ]
    }
   ],
   "source": [
    "for text, label, pred_label in zip(test_texts, test_labels, pred_labels):\n",
    "    print(\n",
    "        f\"Testo: {text} --> \"\n",
    "        f\"Etichetta reale: {'Urgenza' if label == 0 else 'Manutenzione'} --> \"\n",
    "        f\"Predizione: {'Urgenza' if pred_label == 0 else 'Manutenzione'}\"\n",
    "    )\n"
   ]
  }
 ],
 "metadata": {
  "language_info": {
   "name": "python"
  }
 },
 "nbformat": 4,
 "nbformat_minor": 1
}
