{
 "cells": [
  {
   "cell_type": "markdown",
   "metadata": {
    "id": "jOlM4qGmTDpw"
   },
   "source": [
    "**📘 DESCRIZIONE:**\n",
    "\n",
    "---\n",
    "\n",
    "L’obiettivo di questo esercizio è creare un dataset sintetico di segnalazioni di incidenti aziendali, suddivisi in due categorie:\n",
    "\n",
    "- Urgenze (etichetta `0`)\n",
    "- Manutenzione (etichetta `1`)\n",
    "\n",
    "Poi, tramite data augmentation con sostituzione di sinonimi (usando WordNet di NLTK), si generano frasi varianti per aumentare la dimensione del dataset. Il risultato finale è un DataFrame Pandas con i testi originali e quelli modificati, pronti per essere usati in un modello di classificazione."
   ]
  },
  {
   "cell_type": "markdown",
   "metadata": {
    "id": "_0uJLSktTvfF"
   },
   "source": [
    "###**IMPORTO LIBRERIE**"
   ]
  },
  {
   "cell_type": "markdown",
   "metadata": {
    "id": "XbZrmWNNT5la"
   },
   "source": [
    "**OB:** Importare librerie\n",
    "- **random** -> operazioni casuali (es. scelta di sinonimi)\n",
    "- **ntk e wordnet** -> per ottenere sinonimi in italiano\n",
    "- **pandas** -> gestione dei dati tabellari\n",
    "- **torch** -> libreria Torch\n",
    "- **trasformes** -> modelli e tokenizzatori\n",
    "  * DistiBERT : Modello Trasformer perso da HuggingFace\n",
    "- **sklearn** -> split dataset e metriche di valutazione\n",
    "- **numpy** -> operazioni numeriche"
   ]
  },
  {
   "cell_type": "code",
   "execution_count": null,
   "metadata": {
    "id": "WJcuH3AGS89y"
   },
   "outputs": [],
   "source": [
    "import random\n",
    "import nltk\n",
    "from nltk.corpus import wordnet\n",
    "import pandas as pd\n",
    "import torch\n",
    "from transformers import DistilBertForSequenceClassification, DistilBertTokenizer, Trainer, TrainingArguments\n",
    "from sklearn.model_selection import train_test_split\n",
    "from sklearn.metrics import accuracy_score, precision_recall_fscore_support\n",
    "import numpy as np"
   ]
  },
  {
   "cell_type": "markdown",
   "metadata": {
    "id": "2C318p6LVlzD"
   },
   "source": [
    "###**DOWNLOAD RISORSE NLTK (Natural Language Toolkit)**"
   ]
  },
  {
   "cell_type": "markdown",
   "metadata": {
    "id": "q-WHE2GfVw1p"
   },
   "source": [
    "**OB:** Scaricare i dizionari di WordNet (dizionario di sinonimi e contrari inglese) e le risorse multilingua (`omw-1.4`) per cercare sinonimi in italiano."
   ]
  },
  {
   "cell_type": "code",
   "execution_count": 2,
   "metadata": {
    "colab": {
     "base_uri": "https://localhost:8080/",
     "height": 0
    },
    "id": "8Cc5Qdz9WPD4",
    "outputId": "e667eea0-1c05-43e6-aff1-8f8ad5d4810f"
   },
   "outputs": [
    {
     "name": "stderr",
     "output_type": "stream",
     "text": [
      "[nltk_data] Downloading package wordnet to /root/nltk_data...\n",
      "[nltk_data] Downloading package omw-1.4 to /root/nltk_data...\n"
     ]
    },
    {
     "data": {
      "text/plain": [
       "True"
      ]
     },
     "execution_count": 2,
     "metadata": {},
     "output_type": "execute_result"
    }
   ],
   "source": [
    "nltk.download('wordnet')\n",
    "nltk.download('omw-1.4')"
   ]
  },
  {
   "cell_type": "markdown",
   "metadata": {
    "id": "4VVrbQlPWZbO"
   },
   "source": [
    "###**CREAZIONE DI UN DATASET SINTETICO**"
   ]
  },
  {
   "cell_type": "markdown",
   "metadata": {
    "id": "CtCcLKtdWZbP"
   },
   "source": [
    "**OB:** Creare un dizionario Python con:\n",
    "- `text` → lista di frasi (50 urgenze + 50 manutenzioni).\n",
    "- `label` → lista di etichette (0 per urgenze, 1 per manutenzione)."
   ]
  },
  {
   "cell_type": "code",
   "execution_count": 3,
   "metadata": {
    "id": "kMGMLJ5oWg8L"
   },
   "outputs": [],
   "source": [
    "data = {\n",
    "    'text': [\n",
    "        # Urgenze (etichetta 0)\n",
    "        \"Allarme incendio al secondo piano\",\n",
    "        \"Emergenza medica nel reparto IT\",\n",
    "        \"Perdita di gas rilevata in laboratorio\",\n",
    "        \"Allarme intrusione nella sala server\",\n",
    "        \"Persona intrappolata nell'ascensore\",\n",
    "        \"Perdita di acqua nell'edificio\",\n",
    "        \"Sospetta fuga di gas nel garage\",\n",
    "        \"Tubo dell'acqua rotto nel giardino\",\n",
    "        \"Allagamento nella zona reception\",\n",
    "        \"Guasto elettrico nell'ufficio contabilità\",\n",
    "        \"Crollo di una parte del soffitto nella sala riunioni\",\n",
    "        \"Rumore sospetto proveniente dal seminterrato\",\n",
    "        \"Cortocircuito nell'armadio elettrico\",\n",
    "        \"Fumo avvistato nell'area del magazzino\",\n",
    "        \"Interruzione di corrente nell'edificio principale\",\n",
    "        \"Evacuazione dell'area dovuta a minaccia bomba\",\n",
    "        \"Attacco informatico in corso sulla rete aziendale\",\n",
    "        \"Persona con sintomi di soffocamento nell'ufficio marketing\",\n",
    "        \"Presenza di sostanza chimica sospetta nel laboratorio\",\n",
    "        \"Tubo del gas danneggiato nella mensa\",\n",
    "        \"Corto circuito nella sala controllo\",\n",
    "        \"Macchinario surriscaldato nel reparto produzione\",\n",
    "        \"Malore di un dipendente nell'ufficio HR\",\n",
    "        \"Segnale di fumo rilevato nel corridoio est\",\n",
    "        \"Perdita di gas tossico rilevata nei laboratori\",\n",
    "        \"Crollo di scaffalature nel magazzino centrale\",\n",
    "        \"Persona con ferite gravi nel parcheggio\",\n",
    "        \"Attivazione dell'allarme anti-intrusione nella reception\",\n",
    "        \"Allarme di emergenza chimica nella zona esterna\",\n",
    "        \"Persona in stato confusionale nel piano interrato\",\n",
    "        \"Allarme evacuazione attivato nel piano terra\",\n",
    "        \"Dispersione di fumi tossici nel reparto chimico\",\n",
    "        \"Interruzione del servizio di emergenza 112\",\n",
    "        \"Allarme nucleare nella zona di stoccaggio\",\n",
    "        \"Incendio di un veicolo nel parcheggio sotterraneo\",\n",
    "        \"Allarme per sospetto pacco sospetto all'ingresso\",\n",
    "        \"Interruzione del servizio idrico nell'edificio A\",\n",
    "        \"Persona intrappolata nel magazzino merci\",\n",
    "        \"Emergenza medica causata da ustioni nel laboratorio\",\n",
    "        \"Perdita di radiazioni nel laboratorio radioattivo\",\n",
    "        \"Esplosione avvenuta nella cucina aziendale\",\n",
    "        \"Malore improvviso di un cliente nella zona reception\",\n",
    "        \"Emergenza sanitaria per allergia alimentare in mensa\",\n",
    "        \"Inondazione nel seminterrato dell'edificio B\",\n",
    "        \"Evacuazione dovuta a incendio nella sala riunioni\",\n",
    "        \"Perdita di sostanze tossiche nel corridoio ovest\",\n",
    "        \"Incendio causato da cortocircuito nella zona archivi\",\n",
    "        \"Persona ferita da crollo di scaffale nel magazzino\",\n",
    "        \"Allarme antincendio attivato nel reparto spedizioni\",\n",
    "\n",
    "        # Manutenzione (etichetta 1)\n",
    "        \"Necessità di manutenzione all'ascensore\",\n",
    "        \"Luce rotta nel corridoio principale\",\n",
    "        \"Riparazione necessaria al cancello automatico\",\n",
    "        \"Tappeto da sostituire nella sala conferenze\",\n",
    "        \"Porte dell'ufficio da ricalibrare\",\n",
    "        \"Malfunzionamento del sistema di ventilazione\",\n",
    "        \"Finestra rotta nell'ufficio legale\",\n",
    "        \"Crepe nel muro della zona d'ingresso\",\n",
    "        \"Perdita d'acqua dal soffitto della cucina\",\n",
    "        \"Manutenzione programmata della rete elettrica\",\n",
    "        \"Pavimento del corridoio da riparare\",\n",
    "        \"Sostituzione del filtro dell'aria nel laboratorio\",\n",
    "        \"Riparazione delle poltrone nella sala attesa\",\n",
    "        \"Ristrutturazione della facciata dell'edificio\",\n",
    "        \"Tastiera non funzionante nella sala conferenze\",\n",
    "        \"Riparazione dei condizionatori nel reparto IT\",\n",
    "        \"Cablaggio della rete da rinnovare nel piano terra\",\n",
    "        \"Riparazione della porta scorrevole nella reception\",\n",
    "        \"Sostituzione delle tende nella mensa\",\n",
    "        \"Riparazione delle serrande nel magazzino\",\n",
    "        \"Sostituzione del cartongesso danneggiato nella sala riunioni\",\n",
    "        \"Rimozione delle erbacce dal giardino aziendale\",\n",
    "        \"Pulizia del sistema di ventilazione centralizzato\",\n",
    "        \"Controllo delle lampadine nel corridoio nord\",\n",
    "        \"Verifica del sistema di riscaldamento\",\n",
    "        \"Controllo del quadro elettrico nella zona archivi\",\n",
    "        \"Riparazione della serratura difettosa nell'ufficio HR\",\n",
    "        \"Sostituzione delle mattonelle nella zona ingresso\",\n",
    "        \"Manutenzione delle scale antincendio esterne\",\n",
    "        \"Pittura delle pareti del laboratorio\",\n",
    "        \"Rimozione di muffa dalle pareti del seminterrato\",\n",
    "        \"Sostituzione del quadro comandi del generatore\",\n",
    "        \"Pulizia delle grondaie nell'edificio B\",\n",
    "        \"Rimozione dei graffiti nella facciata esterna\",\n",
    "        \"Manutenzione degli estintori nell'ufficio legale\",\n",
    "        \"Riparazione delle tubature nell'area servizi\",\n",
    "        \"Controllo delle guarnizioni delle finestre\",\n",
    "        \"Installazione di nuovi sistemi di allarme\",\n",
    "        \"Manutenzione del generatore di emergenza\",\n",
    "        \"Sostituzione della moquette nella zona uffici\",\n",
    "        \"Verifica delle uscite di sicurezza nel magazzino\",\n",
    "        \"Riparazione del citofono all'ingresso principale\",\n",
    "        \"Pulizia delle ventole nel server della rete IT\",\n",
    "        \"Rimozione di ostacoli dalle vie di fuga\",\n",
    "        \"Verifica delle condizioni delle porte tagliafuoco\",\n",
    "        \"Ristrutturazione della sala mensa\",\n",
    "        \"Manutenzione ordinaria degli impianti elettrici\",\n",
    "        \"Sostituzione delle plafoniere nel piano terra\",\n",
    "        \"Riparazione delle mattonelle danneggiate nel cortile\",\n",
    "        \"Riparazione dell'ascensore nel magazzino\",\n",
    "        \"Sostituzione del pannello danneggiato nel corridoio\"\n",
    "    ],\n",
    "    'label': [0] * 50 + [1] * 50\n",
    "}"
   ]
  },
  {
   "cell_type": "markdown",
   "metadata": {
    "id": "nPYc9k_tXPqI"
   },
   "source": [
    "###**FUNZIONE PER TROVARE SINONIMI**"
   ]
  },
  {
   "cell_type": "markdown",
   "metadata": {
    "id": "5N9i2Wg8XPqJ"
   },
   "source": [
    "**OB:** Cerca i sinonimi di una parola in italiano usando WordNet.\n",
    "**Funzioni**:\n",
    "- `wordnet.synsets(word, lang='ita')` → trova i set di significati (synset) per la parola.\n",
    "- `syn.lemmas(lang='ita')` → ottiene i lemmi (forme della parola) in italiano.\n",
    "- `lemma.name()` → restituisce il testo del lemma."
   ]
  },
  {
   "cell_type": "code",
   "execution_count": 4,
   "metadata": {
    "id": "37yEAvLnX47c"
   },
   "outputs": [],
   "source": [
    "def get_synonyms(word):\n",
    "    synonyms = set()\n",
    "    for syn in wordnet.synsets(word, lang='ita'):\n",
    "        for lemma in syn.lemmas(lang='ita'):\n",
    "            synonyms.add(lemma.name())\n",
    "    return list(synonyms)\n"
   ]
  },
  {
   "cell_type": "markdown",
   "metadata": {
    "id": "pVcQBu5tY2nO"
   },
   "source": [
    "###**FUNZIONE DI DATA AUGMENTATION**"
   ]
  },
  {
   "cell_type": "markdown",
   "metadata": {
    "id": "v0CAD08oY2nP"
   },
   "source": [
    "**OB:** Prende una frase e sostituisce fino a `n` parole con sinonimi."
   ]
  },
  {
   "cell_type": "code",
   "execution_count": 5,
   "metadata": {
    "id": "m5P_Cf0tZA3L"
   },
   "outputs": [],
   "source": [
    "def synonym_replacement(sentence, n=2):\n",
    "    words = sentence.split()\n",
    "    #sentence.split(..) ->> divide sentence in 2 words\n",
    "    random_words = list(set(words))\n",
    "    random.shuffle(random_words)\n",
    "    #random-.shuffle(..) ->> Mix up the order of the candidate words\n",
    "    num_replaced = 0\n",
    "    new_sentence = words.copy()\n",
    "\n",
    "    for random_word in random_words:\n",
    "        synonyms = get_synonyms(random_word)\n",
    "        #get.synonyms(..) ->> get the synonims of a word (Preaviously created function)\n",
    "        if len(synonyms) > 0:\n",
    "            synonym = random.choice(synonyms)\n",
    "            #random.choice(..) ->> choose in random order\n",
    "            new_sentence = [synonym if word == random_word else word for word in new_sentence]\n",
    "            #new_sentence ->> substitute word with a random synonim\n",
    "            num_replaced += 1\n",
    "        if num_replaced >= n:\n",
    "            break\n",
    "\n",
    "    return ' '.join(new_sentence)\n"
   ]
  },
  {
   "cell_type": "markdown",
   "metadata": {
    "id": "ZM2vgOBqYadI"
   },
   "source": [
    "###**CREAZIONE DATASET AUMENTATO**"
   ]
  },
  {
   "cell_type": "markdown",
   "metadata": {
    "id": "zfOSH2IJYadL"
   },
   "source": [
    "**OB:** Creare un nuovo dataset che contiene:\n",
    "- La frase originale.\n",
    "- Una versione modificata con sinonimi."
   ]
  },
  {
   "cell_type": "code",
   "execution_count": 6,
   "metadata": {
    "id": "FPzwWsjoYrip"
   },
   "outputs": [],
   "source": [
    "augmented_data = {'text': [], 'label': []}\n",
    "\n",
    "for text, label in zip(data['text'], data['label']):\n",
    "  #zip(..) ->> iterate on text & label togheter\n",
    "    augmented_data['text'].append(text)\n",
    "    augmented_data['label'].append(label)\n",
    "\n",
    "    new_text = synonym_replacement(text)\n",
    "    #synonym_replacement(..) ->> create tha modified sentence\n",
    "    augmented_data['text'].append(new_text)\n",
    "    augmented_data['label'].append(label)\n"
   ]
  },
  {
   "cell_type": "markdown",
   "metadata": {
    "id": "IAh3ORA-byz_"
   },
   "source": [
    "###**CREAZIONE DI UN DATAFRAME FINALE**"
   ]
  },
  {
   "cell_type": "markdown",
   "metadata": {
    "id": "Vn39NZp2by0A"
   },
   "source": [
    "**OB:** Converte il dizionario `augmented_data` in un DataFrame Pandas, pronto per l’uso in addestramento."
   ]
  },
  {
   "cell_type": "code",
   "execution_count": 7,
   "metadata": {
    "id": "zug7uj-1bweH"
   },
   "outputs": [],
   "source": [
    "df = pd.DataFrame(augmented_data)"
   ]
  },
  {
   "cell_type": "markdown",
   "metadata": {
    "id": "oPwC0H4oc39v"
   },
   "source": [
    "###**SUDDIVISIONE DEL DATASET**"
   ]
  },
  {
   "cell_type": "markdown",
   "metadata": {
    "id": "MqS7hJDSc39y"
   },
   "source": [
    "**OB:** Dividere il dataset in:\n",
    "- Train (60%)\n",
    "- Validation (20%)\n",
    "- Test (20%)"
   ]
  },
  {
   "cell_type": "code",
   "execution_count": 8,
   "metadata": {
    "id": "eT4QEdUZc8sy"
   },
   "outputs": [],
   "source": [
    "train_texts, temp_texts, train_labels, temp_labels = train_test_split(\n",
    "    df['text'], df['label'], test_size=0.4, random_state=42\n",
    ")\n",
    "val_texts, test_texts, val_labels, test_labels = train_test_split(\n",
    "    temp_texts, temp_labels, test_size=0.5, random_state=42\n",
    ")\n",
    "#train_test_split(...) ->> of scikit-learn , divide data in random way but reproductible (random_state=42)"
   ]
  },
  {
   "cell_type": "markdown",
   "metadata": {
    "id": "dU4ScTlVdkHL"
   },
   "source": [
    "###**PREPARAZIONE DEL TOKENIZER**"
   ]
  },
  {
   "cell_type": "markdown",
   "metadata": {
    "id": "Q-RHPoHedkHN"
   },
   "source": [
    "**OB:** Caricare il tokenizer pre‑addestrato di **DistilBERT** (versione uncased → tutto minuscolo)."
   ]
  },
  {
   "cell_type": "code",
   "execution_count": 9,
   "metadata": {
    "colab": {
     "base_uri": "https://localhost:8080/",
     "height": 256,
     "referenced_widgets": [
      "b65c416be1d04ca9a278599a79eba458",
      "394f04b2ad244da79caf73c6c234fd77",
      "c26266c46f1d4733befc98856e047e22",
      "b9cbad0c96e149c7a67fd63531238edc",
      "db02622363344c4292e9e6d284621e17",
      "c54ad50d14384d63baaef77de5b8c797",
      "75ce8026000d49eca00d92cc726701ad",
      "8063a9afc12347bcaeaf95546eeca63e",
      "531e065782fd4447a5a6bce462536eee",
      "120688426b82495a8d4514356748d759",
      "25ea6097cde9427186daca7e5dd1bd94",
      "4fcb6caf54b64858bcad5037d0366e02",
      "6800c30be313422ea48d13dc37fd5f35",
      "c37d623d89064d3cbb8330716ee41938",
      "4825984a2e954a6b9a5f15e55ec05da2",
      "55d2867d1a5a4b2faa36a21fc4c1c09a",
      "a49440ec8fa743c2b64f3e0c5b31e355",
      "63332699b6ed458e8ca6bafa7dfbf204",
      "d162986f4e894801b306c3e7aeec8fac",
      "d5f37d55137d43e69c5000a316796aea",
      "fc89349026a941fc99a550a6c07de174",
      "d8f06d106f6e4a31994c7f3ab6c82446",
      "56895fff4b204e8f89ae32d2781b98a4",
      "2ddf01a3d1fc4e89b61efe3e7d307a98",
      "f245df5062d34d6792cb21129d7850af",
      "d9cff58dde0641229cbcd105af666273",
      "08d166685c944d32a035f8ce950d7307",
      "a4fab1f665264fff89a1ea118f5a0e7e",
      "c71071a7185f40aaba316c429d65e4f2",
      "393599e93fe245d19308bfe9d7e3d8c1",
      "deba18ac27554ba9b94349155e8f69ab",
      "665dfebdf17146559882de0a318d6479",
      "cdeab3a5684e42ae88597f180e1e5c05",
      "bf74f79aaff04a38be64fc9344733d80",
      "3cea425ca88b43089dd8362cfadb7b26",
      "1462cd05fed64d9ea813b6fd50d71f29",
      "625237dfb3864170a8ad46a16aec368e",
      "d28378efbabd45dda51e8c8bd7243b3a",
      "a54b1e71711843dfb2b46328a3c33634",
      "248ad92dac4149478fee824735a8247d",
      "e6de0df39691476b8092cee17f3af3b1",
      "42bf1edc576c4edc94641dc891bca18c",
      "1362cc0df697433d8cfc4a1035d22185",
      "eb83a748eb8f4d1d8e2d145fd4d9f7ba"
     ]
    },
    "id": "QRLOeJaads_X",
    "outputId": "4a24d88c-c8ad-4039-8f36-88aba45b1a03"
   },
   "outputs": [
    {
     "name": "stderr",
     "output_type": "stream",
     "text": [
      "/usr/local/lib/python3.12/dist-packages/huggingface_hub/utils/_auth.py:94: UserWarning: \n",
      "The secret `HF_TOKEN` does not exist in your Colab secrets.\n",
      "To authenticate with the Hugging Face Hub, create a token in your settings tab (https://huggingface.co/settings/tokens), set it as secret in your Google Colab and restart your session.\n",
      "You will be able to reuse this secret in all of your notebooks.\n",
      "Please note that authentication is recommended but still optional to access public models or datasets.\n",
      "  warnings.warn(\n"
     ]
    },
    {
     "data": {
      "application/vnd.jupyter.widget-view+json": {
       "model_id": "b65c416be1d04ca9a278599a79eba458",
       "version_major": 2,
       "version_minor": 0
      },
      "text/plain": [
       "tokenizer_config.json:   0%|          | 0.00/48.0 [00:00<?, ?B/s]"
      ]
     },
     "metadata": {},
     "output_type": "display_data"
    },
    {
     "data": {
      "application/vnd.jupyter.widget-view+json": {
       "model_id": "4fcb6caf54b64858bcad5037d0366e02",
       "version_major": 2,
       "version_minor": 0
      },
      "text/plain": [
       "vocab.txt:   0%|          | 0.00/232k [00:00<?, ?B/s]"
      ]
     },
     "metadata": {},
     "output_type": "display_data"
    },
    {
     "data": {
      "application/vnd.jupyter.widget-view+json": {
       "model_id": "56895fff4b204e8f89ae32d2781b98a4",
       "version_major": 2,
       "version_minor": 0
      },
      "text/plain": [
       "tokenizer.json:   0%|          | 0.00/466k [00:00<?, ?B/s]"
      ]
     },
     "metadata": {},
     "output_type": "display_data"
    },
    {
     "data": {
      "application/vnd.jupyter.widget-view+json": {
       "model_id": "bf74f79aaff04a38be64fc9344733d80",
       "version_major": 2,
       "version_minor": 0
      },
      "text/plain": [
       "config.json:   0%|          | 0.00/483 [00:00<?, ?B/s]"
      ]
     },
     "metadata": {},
     "output_type": "display_data"
    }
   ],
   "source": [
    "tokenizer = DistilBertTokenizer.from_pretrained('distilbert-base-uncased')\n",
    "#.from_pretrained(..) ->> download & upload tokenizer by Model Hub"
   ]
  },
  {
   "cell_type": "markdown",
   "metadata": {
    "id": "1NdXjvUIeExu"
   },
   "source": [
    "###**FUNZIONE DI TOKENIZZAZIONE**"
   ]
  },
  {
   "cell_type": "markdown",
   "metadata": {
    "id": "rHkesK30eExv"
   },
   "source": [
    "**OB:** Definire una funzione per convertire le frasi in input numerici per il modello.\n"
   ]
  },
  {
   "cell_type": "code",
   "execution_count": 10,
   "metadata": {
    "id": "oNFZP9AEeI8G"
   },
   "outputs": [],
   "source": [
    "def tokenize_function(texts):\n",
    "    return tokenizer(\n",
    "        texts,\n",
    "        padding=\"max_length\",\n",
    "        #padding = \"max_lenght\" ->> every sequence has the same lenght\n",
    "        truncation=True,\n",
    "        #truncation=True ->> divide sentences too loong\n",
    "        max_length=64,\n",
    "        #max_lenght=64 ->> max lenght in token\n",
    "        return_tensors=\"pt\"\n",
    "        #return_tensors=pt ->> return tensors Pytorch\n",
    "    )\n"
   ]
  },
  {
   "cell_type": "markdown",
   "metadata": {
    "id": "bo6JzQP5ezh1"
   },
   "source": [
    "###**TOKENIZZAZIONE DEL SET**"
   ]
  },
  {
   "cell_type": "markdown",
   "metadata": {
    "id": "4Yq6yjH_ezh3"
   },
   "source": [
    "**OB:** Applicare la funzione di tokenizzazione a train, validation e test set\n"
   ]
  },
  {
   "cell_type": "code",
   "execution_count": 11,
   "metadata": {
    "id": "_dGTvX09e3Jm"
   },
   "outputs": [],
   "source": [
    "train_encodings = tokenize_function(train_texts.to_list())\n",
    "val_encodings = tokenize_function(val_texts.to_list())\n",
    "test_encodings = tokenize_function(test_texts.to_list())\n"
   ]
  },
  {
   "cell_type": "markdown",
   "metadata": {
    "id": "Fl1XiEIffEbF"
   },
   "source": [
    "###**CREAZIONE DATASET PYTORCH**"
   ]
  },
  {
   "cell_type": "markdown",
   "metadata": {
    "id": "NNL61_QcfEbF"
   },
   "source": [
    "**OB:** Creare una classe custom `IncidentDataset` per gestire il dataset in PyTorch."
   ]
  },
  {
   "cell_type": "code",
   "execution_count": 13,
   "metadata": {
    "id": "BOLYv2kJfNaC"
   },
   "outputs": [],
   "source": [
    "class IncidentDataset(torch.utils.data.Dataset):\n",
    "    def __init__(self, encodings, labels):\n",
    "        self.encodings = encodings\n",
    "        self.labels = labels\n",
    "\n",
    "    def __getitem__(self, idx):\n",
    "      #__getitem__(..) ->> return one single example (input+label) by an index idx\n",
    "        item = {key: val[idx].clone().detach() for key, val in self.encodings.items()}\n",
    "        item['labels'] = torch.tensor(self.labels[idx])\n",
    "        return item\n",
    "    #self.encodings.items(...) ->> take tokenizer tensors (as input_ids, attention_mask) created from DistilBERT tokenizer.\n",
    "    #val[idx].clone().detach() ->> For every tensor , take example from index idx , and clone it to prevent changes and divide it from computational graph.\n",
    "    #item['labels'] = torch.tensor(self.labels[idx]) ->> Adds the label corresponding to the example, converting it into a PyTorch tensor.\n",
    "    #item ->> return a dictionary with input and labels , ready to use into the model.\n",
    "\n",
    "\n",
    "    def __len__(self):\n",
    "        return len(self.labels)\n",
    "    #__len__(..) ->> total number of examples\n"
   ]
  },
  {
   "cell_type": "markdown",
   "metadata": {
    "id": "-oYGsOlLZhP3"
   },
   "source": [
    "###**ISTANZE DEI DATASET**"
   ]
  },
  {
   "cell_type": "markdown",
   "metadata": {
    "id": "Ww9VgwNNZhQA"
   },
   "source": [
    "**OB:** Crei i dataset PyTorch per train, validation e test."
   ]
  },
  {
   "cell_type": "code",
   "execution_count": 14,
   "metadata": {
    "id": "EWTDOBDIZn_C"
   },
   "outputs": [],
   "source": [
    "train_dataset = IncidentDataset(train_encodings, train_labels.tolist())\n",
    "val_dataset = IncidentDataset(val_encodings, val_labels.tolist())\n",
    "test_dataset = IncidentDataset(test_encodings, test_labels.tolist())"
   ]
  },
  {
   "cell_type": "markdown",
   "metadata": {
    "id": "MxoAQ6I6ZsCT"
   },
   "source": [
    "###**DEFINIZIONE DEL MODELLO**"
   ]
  },
  {
   "cell_type": "markdown",
   "metadata": {
    "id": "xQxB4wstZsCU"
   },
   "source": [
    "**OB:** Caricare il modello DistilBERT per classificare le sequenze\n",
    "\n"
   ]
  },
  {
   "cell_type": "code",
   "execution_count": 15,
   "metadata": {
    "colab": {
     "base_uri": "https://localhost:8080/",
     "height": 86,
     "referenced_widgets": [
      "153ad71f9b3849aeb06d6203a0890ca0",
      "aef28cf0bd42451198f2908a7c564b72",
      "508bebddce754e10a69332fc08de6765",
      "88f6f52b02a6413fac3d22a03b83a707",
      "5222903fb2914709a6fa7bbc036dab5b",
      "28693a2df3a9451fa23577faed5c7780",
      "4bd45891d3c745019ddce21a2a195637",
      "704198959a0b47aead0dad47d046ff13",
      "6d2113c0e3f9433980cf46dd2d480874",
      "884cf9f9a5b84b9ebc629b59682323d5",
      "930c59cd358f41498675f84d1193d4d3"
     ]
    },
    "id": "cDFGm_uZZqJm",
    "outputId": "668b2d8a-334c-400f-e3f0-421b2215c1e9"
   },
   "outputs": [
    {
     "data": {
      "application/vnd.jupyter.widget-view+json": {
       "model_id": "153ad71f9b3849aeb06d6203a0890ca0",
       "version_major": 2,
       "version_minor": 0
      },
      "text/plain": [
       "model.safetensors:   0%|          | 0.00/268M [00:00<?, ?B/s]"
      ]
     },
     "metadata": {},
     "output_type": "display_data"
    },
    {
     "name": "stderr",
     "output_type": "stream",
     "text": [
      "Some weights of DistilBertForSequenceClassification were not initialized from the model checkpoint at distilbert-base-uncased and are newly initialized: ['classifier.bias', 'classifier.weight', 'pre_classifier.bias', 'pre_classifier.weight']\n",
      "You should probably TRAIN this model on a down-stream task to be able to use it for predictions and inference.\n"
     ]
    }
   ],
   "source": [
    "model = DistilBertForSequenceClassification.from_pretrained(\n",
    "    \"distilbert-base-uncased\",\n",
    "    num_labels=2\n",
    ")\n",
    "#num_labels=2 ->> load 2 classes (urgenza / manutenzione)\n"
   ]
  },
  {
   "cell_type": "markdown",
   "metadata": {
    "id": "NZFUtYNXaSCM"
   },
   "source": [
    "###**ARGOMENTI DI TRAINING**"
   ]
  },
  {
   "cell_type": "markdown",
   "metadata": {
    "id": "rcuUptGRaSCN"
   },
   "source": [
    "**OB:** Imposti i parametri di addestramento:\n",
    "-` output_dir` → cartella per salvare risultati.\n",
    "- `eval_strategy=\"epoch\"` → valuta a fine di ogni epoca.\n",
    "- `learning_rate=1e-5` → passo di apprendimento.\n",
    "- `per_device_train_batch_size / per_device_eval_batch_size` → batch size.\n",
    "- `num_train_epochs=10 `→ numero di epoche.\n",
    "- `weight_decay=0.01` → regolarizzazione.\n",
    "\n"
   ]
  },
  {
   "cell_type": "code",
   "execution_count": 30,
   "metadata": {
    "id": "5mkSh7Xfam9B"
   },
   "outputs": [],
   "source": [
    "training_args = TrainingArguments(\n",
    "    output_dir=\"./results\",\n",
    "    eval_strategy=\"epoch\",\n",
    "    learning_rate=1e-5,\n",
    "    per_device_train_batch_size=2,\n",
    "    per_device_eval_batch_size=2,\n",
    "    num_train_epochs=10,\n",
    "    weight_decay=0.01,\n",
    "    report_to=\"none\" # Disable reporting to Weights & Biases\n",
    ")"
   ]
  },
  {
   "cell_type": "markdown",
   "metadata": {
    "id": "8GbPMVi8bYT7"
   },
   "source": [
    "###**FUNZIONI METRICHE**"
   ]
  },
  {
   "cell_type": "markdown",
   "metadata": {
    "id": "hxuzJ4V8bYT8"
   },
   "source": [
    "**OB:** Calcolo metrice di valutazione:\n",
    "- Accuracy : % predizione corrette sul tot.\n",
    "- Precision : Quanto volte il modello riesce a predire al giusta classe.\n",
    "- Recall : Quante volte il modello riesce a trovare tutti gli esempi di una classe.\n",
    "- F1-score : Media armonica tra Precision e Recall.\n"
   ]
  },
  {
   "cell_type": "code",
   "execution_count": 32,
   "metadata": {
    "id": "sbu7sVy1cH2b"
   },
   "outputs": [],
   "source": [
    "def compute_metrics(pred):\n",
    "    labels = pred.label_ids\n",
    "    preds = np.argmax(pred.predictions, axis=1)\n",
    "    #np.argmax(..) ->> class with higher probability\n",
    "    precision, recall, f1, _ = precision_recall_fscore_support(\n",
    "        labels, preds, average='weighted'\n",
    "    )\n",
    "    #precision_recall_fscore_support(..) ->> classifications metrics\n",
    "    acc = accuracy_score(labels, preds)\n",
    "    #accuracy_score(..) ->> accuracy\n",
    "    return {\n",
    "        \"accuracy\": acc,\n",
    "        \"f1\": f1,\n",
    "        \"precision\": precision,\n",
    "        \"recall\": recall\n",
    "    }\n"
   ]
  },
  {
   "cell_type": "markdown",
   "metadata": {
    "id": "ghGlQo-OfyKo"
   },
   "source": [
    "###**CREAZIONE DEL TRAINER**"
   ]
  },
  {
   "cell_type": "markdown",
   "metadata": {
    "id": "lPEFVnUwfyKv"
   },
   "source": [
    "**OB:** Crea un oggetto `Trainer` di Hugging Face per gestire addestramento e valutazione.\n",
    "\n"
   ]
  },
  {
   "cell_type": "code",
   "execution_count": 31,
   "metadata": {
    "id": "m5Rf6a5KgdbN"
   },
   "outputs": [],
   "source": [
    "trainer = Trainer(\n",
    "    model=model,\n",
    "    args=training_args,\n",
    "    train_dataset=train_dataset,\n",
    "    eval_dataset=val_dataset,\n",
    "    compute_metrics=compute_metrics,\n",
    ")\n"
   ]
  },
  {
   "cell_type": "markdown",
   "metadata": {
    "id": "IJp1flHnghKv"
   },
   "source": [
    "###**ADDESTRAMENTO**"
   ]
  },
  {
   "cell_type": "markdown",
   "metadata": {
    "id": "yQZmdgScghKv"
   },
   "source": [
    "**OB:** Avvia il processo di training del modello.\n",
    "\n"
   ]
  },
  {
   "cell_type": "code",
   "execution_count": 33,
   "metadata": {
    "colab": {
     "base_uri": "https://localhost:8080/",
     "height": 850
    },
    "id": "zGmIviHCgk7x",
    "outputId": "8d1e244e-5a52-4337-8f9e-c68bdf7b651d"
   },
   "outputs": [
    {
     "name": "stderr",
     "output_type": "stream",
     "text": [
      "/usr/local/lib/python3.12/dist-packages/torch/utils/data/dataloader.py:666: UserWarning: 'pin_memory' argument is set as true but no accelerator is found, then device pinned memory won't be used.\n",
      "  warnings.warn(warn_msg)\n"
     ]
    },
    {
     "data": {
      "text/html": [
       "\n",
       "    <div>\n",
       "      \n",
       "      <progress value='600' max='600' style='width:300px; height:20px; vertical-align: middle;'></progress>\n",
       "      [600/600 10:30, Epoch 10/10]\n",
       "    </div>\n",
       "    <table border=\"1\" class=\"dataframe\">\n",
       "  <thead>\n",
       " <tr style=\"text-align: left;\">\n",
       "      <th>Epoch</th>\n",
       "      <th>Training Loss</th>\n",
       "      <th>Validation Loss</th>\n",
       "      <th>Accuracy</th>\n",
       "      <th>F1</th>\n",
       "      <th>Precision</th>\n",
       "      <th>Recall</th>\n",
       "    </tr>\n",
       "  </thead>\n",
       "  <tbody>\n",
       "    <tr>\n",
       "      <td>1</td>\n",
       "      <td>No log</td>\n",
       "      <td>0.468017</td>\n",
       "      <td>0.850000</td>\n",
       "      <td>0.850000</td>\n",
       "      <td>0.850000</td>\n",
       "      <td>0.850000</td>\n",
       "    </tr>\n",
       "    <tr>\n",
       "      <td>2</td>\n",
       "      <td>No log</td>\n",
       "      <td>0.335047</td>\n",
       "      <td>0.900000</td>\n",
       "      <td>0.901010</td>\n",
       "      <td>0.920000</td>\n",
       "      <td>0.900000</td>\n",
       "    </tr>\n",
       "    <tr>\n",
       "      <td>3</td>\n",
       "      <td>No log</td>\n",
       "      <td>0.192434</td>\n",
       "      <td>0.925000</td>\n",
       "      <td>0.925338</td>\n",
       "      <td>0.926854</td>\n",
       "      <td>0.925000</td>\n",
       "    </tr>\n",
       "    <tr>\n",
       "      <td>4</td>\n",
       "      <td>No log</td>\n",
       "      <td>0.096652</td>\n",
       "      <td>0.975000</td>\n",
       "      <td>0.975113</td>\n",
       "      <td>0.976471</td>\n",
       "      <td>0.975000</td>\n",
       "    </tr>\n",
       "    <tr>\n",
       "      <td>5</td>\n",
       "      <td>No log</td>\n",
       "      <td>0.355805</td>\n",
       "      <td>0.900000</td>\n",
       "      <td>0.901010</td>\n",
       "      <td>0.920000</td>\n",
       "      <td>0.900000</td>\n",
       "    </tr>\n",
       "    <tr>\n",
       "      <td>6</td>\n",
       "      <td>No log</td>\n",
       "      <td>0.139620</td>\n",
       "      <td>0.975000</td>\n",
       "      <td>0.975113</td>\n",
       "      <td>0.976471</td>\n",
       "      <td>0.975000</td>\n",
       "    </tr>\n",
       "    <tr>\n",
       "      <td>7</td>\n",
       "      <td>No log</td>\n",
       "      <td>0.191701</td>\n",
       "      <td>0.950000</td>\n",
       "      <td>0.950384</td>\n",
       "      <td>0.955556</td>\n",
       "      <td>0.950000</td>\n",
       "    </tr>\n",
       "    <tr>\n",
       "      <td>8</td>\n",
       "      <td>No log</td>\n",
       "      <td>0.258012</td>\n",
       "      <td>0.925000</td>\n",
       "      <td>0.925714</td>\n",
       "      <td>0.936842</td>\n",
       "      <td>0.925000</td>\n",
       "    </tr>\n",
       "    <tr>\n",
       "      <td>9</td>\n",
       "      <td>0.047500</td>\n",
       "      <td>0.276924</td>\n",
       "      <td>0.925000</td>\n",
       "      <td>0.925714</td>\n",
       "      <td>0.936842</td>\n",
       "      <td>0.925000</td>\n",
       "    </tr>\n",
       "    <tr>\n",
       "      <td>10</td>\n",
       "      <td>0.047500</td>\n",
       "      <td>0.254192</td>\n",
       "      <td>0.925000</td>\n",
       "      <td>0.925714</td>\n",
       "      <td>0.936842</td>\n",
       "      <td>0.925000</td>\n",
       "    </tr>\n",
       "  </tbody>\n",
       "</table><p>"
      ],
      "text/plain": [
       "<IPython.core.display.HTML object>"
      ]
     },
     "metadata": {},
     "output_type": "display_data"
    },
    {
     "name": "stderr",
     "output_type": "stream",
     "text": [
      "/usr/local/lib/python3.12/dist-packages/torch/utils/data/dataloader.py:666: UserWarning: 'pin_memory' argument is set as true but no accelerator is found, then device pinned memory won't be used.\n",
      "  warnings.warn(warn_msg)\n",
      "/usr/local/lib/python3.12/dist-packages/torch/utils/data/dataloader.py:666: UserWarning: 'pin_memory' argument is set as true but no accelerator is found, then device pinned memory won't be used.\n",
      "  warnings.warn(warn_msg)\n",
      "/usr/local/lib/python3.12/dist-packages/torch/utils/data/dataloader.py:666: UserWarning: 'pin_memory' argument is set as true but no accelerator is found, then device pinned memory won't be used.\n",
      "  warnings.warn(warn_msg)\n",
      "/usr/local/lib/python3.12/dist-packages/torch/utils/data/dataloader.py:666: UserWarning: 'pin_memory' argument is set as true but no accelerator is found, then device pinned memory won't be used.\n",
      "  warnings.warn(warn_msg)\n",
      "/usr/local/lib/python3.12/dist-packages/torch/utils/data/dataloader.py:666: UserWarning: 'pin_memory' argument is set as true but no accelerator is found, then device pinned memory won't be used.\n",
      "  warnings.warn(warn_msg)\n",
      "/usr/local/lib/python3.12/dist-packages/torch/utils/data/dataloader.py:666: UserWarning: 'pin_memory' argument is set as true but no accelerator is found, then device pinned memory won't be used.\n",
      "  warnings.warn(warn_msg)\n",
      "/usr/local/lib/python3.12/dist-packages/torch/utils/data/dataloader.py:666: UserWarning: 'pin_memory' argument is set as true but no accelerator is found, then device pinned memory won't be used.\n",
      "  warnings.warn(warn_msg)\n",
      "/usr/local/lib/python3.12/dist-packages/torch/utils/data/dataloader.py:666: UserWarning: 'pin_memory' argument is set as true but no accelerator is found, then device pinned memory won't be used.\n",
      "  warnings.warn(warn_msg)\n",
      "/usr/local/lib/python3.12/dist-packages/torch/utils/data/dataloader.py:666: UserWarning: 'pin_memory' argument is set as true but no accelerator is found, then device pinned memory won't be used.\n",
      "  warnings.warn(warn_msg)\n",
      "/usr/local/lib/python3.12/dist-packages/torch/utils/data/dataloader.py:666: UserWarning: 'pin_memory' argument is set as true but no accelerator is found, then device pinned memory won't be used.\n",
      "  warnings.warn(warn_msg)\n",
      "/usr/local/lib/python3.12/dist-packages/torch/utils/data/dataloader.py:666: UserWarning: 'pin_memory' argument is set as true but no accelerator is found, then device pinned memory won't be used.\n",
      "  warnings.warn(warn_msg)\n"
     ]
    },
    {
     "data": {
      "text/plain": [
       "TrainOutput(global_step=600, training_loss=0.03975280877202749, metrics={'train_runtime': 632.4108, 'train_samples_per_second': 1.898, 'train_steps_per_second': 0.949, 'total_flos': 19870109798400.0, 'train_loss': 0.03975280877202749, 'epoch': 10.0})"
      ]
     },
     "execution_count": 33,
     "metadata": {},
     "output_type": "execute_result"
    }
   ],
   "source": [
    "trainer.train()"
   ]
  },
  {
   "cell_type": "markdown",
   "metadata": {
    "id": "YKCAo9KLmJwl"
   },
   "source": [
    "###**VALUTAZIONE DEL TEST SET**"
   ]
  },
  {
   "cell_type": "markdown",
   "metadata": {
    "id": "IIfUP3ZbmJwn"
   },
   "source": [
    "**OB:** Valutare il modello sul set e stampare le metriche\n",
    "\n"
   ]
  },
  {
   "cell_type": "code",
   "execution_count": 34,
   "metadata": {
    "colab": {
     "base_uri": "https://localhost:8080/",
     "height": 112
    },
    "id": "PiEwsfjWmWGB",
    "outputId": "04a907e3-7907-477e-e2fc-b9d1cd7d1ba5"
   },
   "outputs": [
    {
     "name": "stderr",
     "output_type": "stream",
     "text": [
      "/usr/local/lib/python3.12/dist-packages/torch/utils/data/dataloader.py:666: UserWarning: 'pin_memory' argument is set as true but no accelerator is found, then device pinned memory won't be used.\n",
      "  warnings.warn(warn_msg)\n"
     ]
    },
    {
     "data": {
      "text/html": [
       "\n",
       "    <div>\n",
       "      \n",
       "      <progress value='20' max='20' style='width:300px; height:20px; vertical-align: middle;'></progress>\n",
       "      [20/20 00:04]\n",
       "    </div>\n",
       "    "
      ],
      "text/plain": [
       "<IPython.core.display.HTML object>"
      ]
     },
     "metadata": {},
     "output_type": "display_data"
    },
    {
     "name": "stdout",
     "output_type": "stream",
     "text": [
      "Risultati di valutazione sul set di test: {'eval_loss': 0.22586996853351593, 'eval_accuracy': 0.95, 'eval_f1': 0.9493333333333333, 'eval_precision': 0.9538461538461538, 'eval_recall': 0.95, 'eval_runtime': 5.1831, 'eval_samples_per_second': 7.717, 'eval_steps_per_second': 3.859, 'epoch': 10.0}\n"
     ]
    }
   ],
   "source": [
    "metrics = trainer.evaluate(test_dataset)\n",
    "print(f\"Risultati di valutazione sul set di test: {metrics}\")\n"
   ]
  },
  {
   "cell_type": "markdown",
   "metadata": {
    "id": "91FNK9Y_mhTG"
   },
   "source": [
    "###**PREDIZIONE DEL TEST SET**"
   ]
  },
  {
   "cell_type": "markdown",
   "metadata": {
    "id": "OMItlwbumhTH"
   },
   "source": [
    "**OB:** Generare predizioni sul test set e prendere la classe con probabilità + alta.\n",
    "\n",
    "\n",
    "\n"
   ]
  },
  {
   "cell_type": "code",
   "execution_count": 36,
   "metadata": {
    "colab": {
     "base_uri": "https://localhost:8080/",
     "height": 54
    },
    "id": "d7gNgTm1muC3",
    "outputId": "f76eee95-b14f-440e-8132-9750902c96d6"
   },
   "outputs": [
    {
     "name": "stderr",
     "output_type": "stream",
     "text": [
      "/usr/local/lib/python3.12/dist-packages/torch/utils/data/dataloader.py:666: UserWarning: 'pin_memory' argument is set as true but no accelerator is found, then device pinned memory won't be used.\n",
      "  warnings.warn(warn_msg)\n"
     ]
    },
    {
     "data": {
      "text/html": [],
      "text/plain": [
       "<IPython.core.display.HTML object>"
      ]
     },
     "metadata": {},
     "output_type": "display_data"
    }
   ],
   "source": [
    "predictions = trainer.predict(test_dataset)\n",
    "pred_labels = np.argmax(predictions.predictions, axis=1)\n",
    "#np.argmasx(..) ->> take index of valure higher -> predicted class"
   ]
  },
  {
   "cell_type": "markdown",
   "metadata": {
    "id": "4NUOS0M3nbtX"
   },
   "source": [
    "###**ACCURATEZZA FINALE**"
   ]
  },
  {
   "cell_type": "markdown",
   "metadata": {
    "id": "IpsdqfgEnbtX"
   },
   "source": [
    "**OB:** Calcolare e stampare l'accuratezza percentuale\n",
    "\n"
   ]
  },
  {
   "cell_type": "code",
   "execution_count": 37,
   "metadata": {
    "colab": {
     "base_uri": "https://localhost:8080/",
     "height": 0
    },
    "id": "KLGcqmFTnl-y",
    "outputId": "4e877d6b-8946-4260-e8e1-03db31baeb6b"
   },
   "outputs": [
    {
     "name": "stdout",
     "output_type": "stream",
     "text": [
      "Accuratezza sul set di test: 95.00%\n"
     ]
    }
   ],
   "source": [
    "accuracy = accuracy_score(test_labels, pred_labels)\n",
    "print(f\"Accuratezza sul set di test: {accuracy * 100:.2f}%\")\n"
   ]
  },
  {
   "cell_type": "markdown",
   "metadata": {
    "id": "H16PL11wnvX3"
   },
   "source": [
    "###**VISUALIZZAZIONE DEI RISULTATI**"
   ]
  },
  {
   "cell_type": "markdown",
   "metadata": {
    "id": "Ns86q7KGnvX3"
   },
   "source": [
    "**OB:** Mostri per ogni frase:\n",
    "- Testo originale\n",
    "- Etichetta reale\n",
    "- Predizione del modello\n"
   ]
  },
  {
   "cell_type": "code",
   "execution_count": 38,
   "metadata": {
    "colab": {
     "base_uri": "https://localhost:8080/",
     "height": 0
    },
    "id": "ymEkq89qn7UV",
    "outputId": "1f719048-c9f3-4772-de34-b72d99a35725"
   },
   "outputs": [
    {
     "name": "stdout",
     "output_type": "stream",
     "text": [
      "Testo: anima intrappolata nell'ascensore --> Etichetta reale: Urgenza --> Predizione: Urgenza\n",
      "Testo: essere_umano ferita da crollo di scaffale nel deposito --> Etichetta reale: Urgenza --> Predizione: Urgenza\n",
      "Testo: Controllo del quadro elettrico nella zona archivi --> Etichetta reale: Manutenzione --> Predizione: Manutenzione\n",
      "Testo: Guasto elettrico nell'ufficio contabilità --> Etichetta reale: Urgenza --> Predizione: Urgenza\n",
      "Testo: Malore improvviso di un cliente nella zona reception --> Etichetta reale: Urgenza --> Predizione: Urgenza\n",
      "Testo: riassetto della aspetto dell'edificio --> Etichetta reale: Manutenzione --> Predizione: Manutenzione\n",
      "Testo: Allarme nucleare nella zona di stoccaggio --> Etichetta reale: Urgenza --> Predizione: Urgenza\n",
      "Testo: Crollo di scaffalature nel capannone centrale --> Etichetta reale: Urgenza --> Predizione: Urgenza\n",
      "Testo: Riparazione dei condizionatori nel reparto IT --> Etichetta reale: Manutenzione --> Predizione: Manutenzione\n",
      "Testo: deposizione dei graffiti nella esteriorità esterna --> Etichetta reale: Manutenzione --> Predizione: Manutenzione\n",
      "Testo: Inondazione nel seminterrato dell'edificio B --> Etichetta reale: Urgenza --> Predizione: Urgenza\n",
      "Testo: Persona intrappolata nel provviste mercanzia --> Etichetta reale: Urgenza --> Predizione: Urgenza\n",
      "Testo: riassetto della sala mensa --> Etichetta reale: Manutenzione --> Predizione: Manutenzione\n",
      "Testo: Tappeto da sostituire nella sala conferenze --> Etichetta reale: Manutenzione --> Predizione: Manutenzione\n",
      "Testo: Perdita di sostanze tossiche nel corridoio ovest --> Etichetta reale: Urgenza --> Predizione: Urgenza\n",
      "Testo: aggiustatura delle mattonelle danneggiate nel aia --> Etichetta reale: Manutenzione --> Predizione: Manutenzione\n",
      "Testo: corto circuito nella sala controllo --> Etichetta reale: Urgenza --> Predizione: Urgenza\n",
      "Testo: apprensione antincendio attivato nel dipartimento spedizioni --> Etichetta reale: Urgenza --> Predizione: Urgenza\n",
      "Testo: interruzione del servizio idrico nell'edificio A --> Etichetta reale: Urgenza --> Predizione: Urgenza\n",
      "Testo: fuga di radiazioni nel gabinetto radioattivo --> Etichetta reale: Urgenza --> Predizione: Urgenza\n",
      "Testo: collasso di un dipendente nell'ufficio HR --> Etichetta reale: Urgenza --> Predizione: Urgenza\n",
      "Testo: gente con sintomi di strangolazione nell'ufficio marketing --> Etichetta reale: Urgenza --> Predizione: Urgenza\n",
      "Testo: Perdita d'acqua dal cielo della culinaria --> Etichetta reale: Manutenzione --> Predizione: Manutenzione\n",
      "Testo: Guasto elettrico nell'ufficio ragioneria --> Etichetta reale: Urgenza --> Predizione: Urgenza\n",
      "Testo: Riparazione della serratura difettosa nell'ufficio HR --> Etichetta reale: Manutenzione --> Predizione: Manutenzione\n",
      "Testo: evacuamento dell'area dovuta a minaccia bomba --> Etichetta reale: Urgenza --> Predizione: Urgenza\n",
      "Testo: Tubo del gas danneggiato nella mensa --> Etichetta reale: Urgenza --> Predizione: Urgenza\n",
      "Testo: manutenzione programmata della trabocchetto elettrica --> Etichetta reale: Manutenzione --> Predizione: Manutenzione\n",
      "Testo: Allarme di emergenza chimica nella zona esterna --> Etichetta reale: Urgenza --> Predizione: Urgenza\n",
      "Testo: Emergenza medica causata da ustioni nel laboratorio --> Etichetta reale: Urgenza --> Predizione: Urgenza\n",
      "Testo: Rimozione delle erbacce dal giardino aziendale --> Etichetta reale: Manutenzione --> Predizione: Manutenzione\n",
      "Testo: finestra percorso nell'ufficio legale --> Etichetta reale: Manutenzione --> Predizione: Manutenzione\n",
      "Testo: Controllo delle guarnizioni delle finestre --> Etichetta reale: Manutenzione --> Predizione: Manutenzione\n",
      "Testo: Perdita d'acqua dal soffitto della cucina --> Etichetta reale: Manutenzione --> Predizione: Urgenza\n",
      "Testo: Tastiera non funzionante nella sala conferenze --> Etichetta reale: Manutenzione --> Predizione: Urgenza\n",
      "Testo: Incendio di un veicolo nel parcheggio sotterraneo --> Etichetta reale: Urgenza --> Predizione: Urgenza\n",
      "Testo: Macchinario surriscaldato nel reparto produzione --> Etichetta reale: Urgenza --> Predizione: Urgenza\n",
      "Testo: Allarme evacuazione attivato nel piano terra --> Etichetta reale: Urgenza --> Predizione: Urgenza\n",
      "Testo: Riparazione delle poltrone nella sala attesa --> Etichetta reale: Manutenzione --> Predizione: Manutenzione\n",
      "Testo: Perdita di radiazioni nel laboratorio radioattivo --> Etichetta reale: Urgenza --> Predizione: Urgenza\n"
     ]
    }
   ],
   "source": [
    "for text, label, pred_label in zip(test_texts, test_labels, pred_labels):\n",
    "    print(\n",
    "        f\"Testo: {text} --> \"\n",
    "        f\"Etichetta reale: {'Urgenza' if label == 0 else 'Manutenzione'} --> \"\n",
    "        f\"Predizione: {'Urgenza' if pred_label == 0 else 'Manutenzione'}\"\n",
    "    )\n"
   ]
  }
 ],
 "metadata": {
  "colab": {
   "provenance": []
  },
  "kernelspec": {
   "display_name": "Python 3 (ipykernel)",
   "language": "python",
   "name": "python3"
  },
  "language_info": {
   "codemirror_mode": {
    "name": "ipython",
    "version": 3
   },
   "file_extension": ".py",
   "mimetype": "text/x-python",
   "name": "python",
   "nbconvert_exporter": "python",
   "pygments_lexer": "ipython3",
   "version": "3.9.7"
  },
  "widgets": {
   "application/vnd.jupyter.widget-state+json": {
    "08d166685c944d32a035f8ce950d7307": {
     "model_module": "@jupyter-widgets/base",
     "model_module_version": "1.2.0",
     "model_name": "LayoutModel",
     "state": {
      "_model_module": "@jupyter-widgets/base",
      "_model_module_version": "1.2.0",
      "_model_name": "LayoutModel",
      "_view_count": null,
      "_view_module": "@jupyter-widgets/base",
      "_view_module_version": "1.2.0",
      "_view_name": "LayoutView",
      "align_content": null,
      "align_items": null,
      "align_self": null,
      "border": null,
      "bottom": null,
      "display": null,
      "flex": null,
      "flex_flow": null,
      "grid_area": null,
      "grid_auto_columns": null,
      "grid_auto_flow": null,
      "grid_auto_rows": null,
      "grid_column": null,
      "grid_gap": null,
      "grid_row": null,
      "grid_template_areas": null,
      "grid_template_columns": null,
      "grid_template_rows": null,
      "height": null,
      "justify_content": null,
      "justify_items": null,
      "left": null,
      "margin": null,
      "max_height": null,
      "max_width": null,
      "min_height": null,
      "min_width": null,
      "object_fit": null,
      "object_position": null,
      "order": null,
      "overflow": null,
      "overflow_x": null,
      "overflow_y": null,
      "padding": null,
      "right": null,
      "top": null,
      "visibility": null,
      "width": null
     }
    },
    "120688426b82495a8d4514356748d759": {
     "model_module": "@jupyter-widgets/base",
     "model_module_version": "1.2.0",
     "model_name": "LayoutModel",
     "state": {
      "_model_module": "@jupyter-widgets/base",
      "_model_module_version": "1.2.0",
      "_model_name": "LayoutModel",
      "_view_count": null,
      "_view_module": "@jupyter-widgets/base",
      "_view_module_version": "1.2.0",
      "_view_name": "LayoutView",
      "align_content": null,
      "align_items": null,
      "align_self": null,
      "border": null,
      "bottom": null,
      "display": null,
      "flex": null,
      "flex_flow": null,
      "grid_area": null,
      "grid_auto_columns": null,
      "grid_auto_flow": null,
      "grid_auto_rows": null,
      "grid_column": null,
      "grid_gap": null,
      "grid_row": null,
      "grid_template_areas": null,
      "grid_template_columns": null,
      "grid_template_rows": null,
      "height": null,
      "justify_content": null,
      "justify_items": null,
      "left": null,
      "margin": null,
      "max_height": null,
      "max_width": null,
      "min_height": null,
      "min_width": null,
      "object_fit": null,
      "object_position": null,
      "order": null,
      "overflow": null,
      "overflow_x": null,
      "overflow_y": null,
      "padding": null,
      "right": null,
      "top": null,
      "visibility": null,
      "width": null
     }
    },
    "1362cc0df697433d8cfc4a1035d22185": {
     "model_module": "@jupyter-widgets/base",
     "model_module_version": "1.2.0",
     "model_name": "LayoutModel",
     "state": {
      "_model_module": "@jupyter-widgets/base",
      "_model_module_version": "1.2.0",
      "_model_name": "LayoutModel",
      "_view_count": null,
      "_view_module": "@jupyter-widgets/base",
      "_view_module_version": "1.2.0",
      "_view_name": "LayoutView",
      "align_content": null,
      "align_items": null,
      "align_self": null,
      "border": null,
      "bottom": null,
      "display": null,
      "flex": null,
      "flex_flow": null,
      "grid_area": null,
      "grid_auto_columns": null,
      "grid_auto_flow": null,
      "grid_auto_rows": null,
      "grid_column": null,
      "grid_gap": null,
      "grid_row": null,
      "grid_template_areas": null,
      "grid_template_columns": null,
      "grid_template_rows": null,
      "height": null,
      "justify_content": null,
      "justify_items": null,
      "left": null,
      "margin": null,
      "max_height": null,
      "max_width": null,
      "min_height": null,
      "min_width": null,
      "object_fit": null,
      "object_position": null,
      "order": null,
      "overflow": null,
      "overflow_x": null,
      "overflow_y": null,
      "padding": null,
      "right": null,
      "top": null,
      "visibility": null,
      "width": null
     }
    },
    "1462cd05fed64d9ea813b6fd50d71f29": {
     "model_module": "@jupyter-widgets/controls",
     "model_module_version": "1.5.0",
     "model_name": "FloatProgressModel",
     "state": {
      "_dom_classes": [],
      "_model_module": "@jupyter-widgets/controls",
      "_model_module_version": "1.5.0",
      "_model_name": "FloatProgressModel",
      "_view_count": null,
      "_view_module": "@jupyter-widgets/controls",
      "_view_module_version": "1.5.0",
      "_view_name": "ProgressView",
      "bar_style": "success",
      "description": "",
      "description_tooltip": null,
      "layout": "IPY_MODEL_e6de0df39691476b8092cee17f3af3b1",
      "max": 483,
      "min": 0,
      "orientation": "horizontal",
      "style": "IPY_MODEL_42bf1edc576c4edc94641dc891bca18c",
      "value": 483
     }
    },
    "153ad71f9b3849aeb06d6203a0890ca0": {
     "model_module": "@jupyter-widgets/controls",
     "model_module_version": "1.5.0",
     "model_name": "HBoxModel",
     "state": {
      "_dom_classes": [],
      "_model_module": "@jupyter-widgets/controls",
      "_model_module_version": "1.5.0",
      "_model_name": "HBoxModel",
      "_view_count": null,
      "_view_module": "@jupyter-widgets/controls",
      "_view_module_version": "1.5.0",
      "_view_name": "HBoxView",
      "box_style": "",
      "children": [
       "IPY_MODEL_aef28cf0bd42451198f2908a7c564b72",
       "IPY_MODEL_508bebddce754e10a69332fc08de6765",
       "IPY_MODEL_88f6f52b02a6413fac3d22a03b83a707"
      ],
      "layout": "IPY_MODEL_5222903fb2914709a6fa7bbc036dab5b"
     }
    },
    "248ad92dac4149478fee824735a8247d": {
     "model_module": "@jupyter-widgets/controls",
     "model_module_version": "1.5.0",
     "model_name": "DescriptionStyleModel",
     "state": {
      "_model_module": "@jupyter-widgets/controls",
      "_model_module_version": "1.5.0",
      "_model_name": "DescriptionStyleModel",
      "_view_count": null,
      "_view_module": "@jupyter-widgets/base",
      "_view_module_version": "1.2.0",
      "_view_name": "StyleView",
      "description_width": ""
     }
    },
    "25ea6097cde9427186daca7e5dd1bd94": {
     "model_module": "@jupyter-widgets/controls",
     "model_module_version": "1.5.0",
     "model_name": "DescriptionStyleModel",
     "state": {
      "_model_module": "@jupyter-widgets/controls",
      "_model_module_version": "1.5.0",
      "_model_name": "DescriptionStyleModel",
      "_view_count": null,
      "_view_module": "@jupyter-widgets/base",
      "_view_module_version": "1.2.0",
      "_view_name": "StyleView",
      "description_width": ""
     }
    },
    "28693a2df3a9451fa23577faed5c7780": {
     "model_module": "@jupyter-widgets/base",
     "model_module_version": "1.2.0",
     "model_name": "LayoutModel",
     "state": {
      "_model_module": "@jupyter-widgets/base",
      "_model_module_version": "1.2.0",
      "_model_name": "LayoutModel",
      "_view_count": null,
      "_view_module": "@jupyter-widgets/base",
      "_view_module_version": "1.2.0",
      "_view_name": "LayoutView",
      "align_content": null,
      "align_items": null,
      "align_self": null,
      "border": null,
      "bottom": null,
      "display": null,
      "flex": null,
      "flex_flow": null,
      "grid_area": null,
      "grid_auto_columns": null,
      "grid_auto_flow": null,
      "grid_auto_rows": null,
      "grid_column": null,
      "grid_gap": null,
      "grid_row": null,
      "grid_template_areas": null,
      "grid_template_columns": null,
      "grid_template_rows": null,
      "height": null,
      "justify_content": null,
      "justify_items": null,
      "left": null,
      "margin": null,
      "max_height": null,
      "max_width": null,
      "min_height": null,
      "min_width": null,
      "object_fit": null,
      "object_position": null,
      "order": null,
      "overflow": null,
      "overflow_x": null,
      "overflow_y": null,
      "padding": null,
      "right": null,
      "top": null,
      "visibility": null,
      "width": null
     }
    },
    "2ddf01a3d1fc4e89b61efe3e7d307a98": {
     "model_module": "@jupyter-widgets/controls",
     "model_module_version": "1.5.0",
     "model_name": "HTMLModel",
     "state": {
      "_dom_classes": [],
      "_model_module": "@jupyter-widgets/controls",
      "_model_module_version": "1.5.0",
      "_model_name": "HTMLModel",
      "_view_count": null,
      "_view_module": "@jupyter-widgets/controls",
      "_view_module_version": "1.5.0",
      "_view_name": "HTMLView",
      "description": "",
      "description_tooltip": null,
      "layout": "IPY_MODEL_a4fab1f665264fff89a1ea118f5a0e7e",
      "placeholder": "​",
      "style": "IPY_MODEL_c71071a7185f40aaba316c429d65e4f2",
      "value": "tokenizer.json: 100%"
     }
    },
    "393599e93fe245d19308bfe9d7e3d8c1": {
     "model_module": "@jupyter-widgets/base",
     "model_module_version": "1.2.0",
     "model_name": "LayoutModel",
     "state": {
      "_model_module": "@jupyter-widgets/base",
      "_model_module_version": "1.2.0",
      "_model_name": "LayoutModel",
      "_view_count": null,
      "_view_module": "@jupyter-widgets/base",
      "_view_module_version": "1.2.0",
      "_view_name": "LayoutView",
      "align_content": null,
      "align_items": null,
      "align_self": null,
      "border": null,
      "bottom": null,
      "display": null,
      "flex": null,
      "flex_flow": null,
      "grid_area": null,
      "grid_auto_columns": null,
      "grid_auto_flow": null,
      "grid_auto_rows": null,
      "grid_column": null,
      "grid_gap": null,
      "grid_row": null,
      "grid_template_areas": null,
      "grid_template_columns": null,
      "grid_template_rows": null,
      "height": null,
      "justify_content": null,
      "justify_items": null,
      "left": null,
      "margin": null,
      "max_height": null,
      "max_width": null,
      "min_height": null,
      "min_width": null,
      "object_fit": null,
      "object_position": null,
      "order": null,
      "overflow": null,
      "overflow_x": null,
      "overflow_y": null,
      "padding": null,
      "right": null,
      "top": null,
      "visibility": null,
      "width": null
     }
    },
    "394f04b2ad244da79caf73c6c234fd77": {
     "model_module": "@jupyter-widgets/controls",
     "model_module_version": "1.5.0",
     "model_name": "HTMLModel",
     "state": {
      "_dom_classes": [],
      "_model_module": "@jupyter-widgets/controls",
      "_model_module_version": "1.5.0",
      "_model_name": "HTMLModel",
      "_view_count": null,
      "_view_module": "@jupyter-widgets/controls",
      "_view_module_version": "1.5.0",
      "_view_name": "HTMLView",
      "description": "",
      "description_tooltip": null,
      "layout": "IPY_MODEL_c54ad50d14384d63baaef77de5b8c797",
      "placeholder": "​",
      "style": "IPY_MODEL_75ce8026000d49eca00d92cc726701ad",
      "value": "tokenizer_config.json: 100%"
     }
    },
    "3cea425ca88b43089dd8362cfadb7b26": {
     "model_module": "@jupyter-widgets/controls",
     "model_module_version": "1.5.0",
     "model_name": "HTMLModel",
     "state": {
      "_dom_classes": [],
      "_model_module": "@jupyter-widgets/controls",
      "_model_module_version": "1.5.0",
      "_model_name": "HTMLModel",
      "_view_count": null,
      "_view_module": "@jupyter-widgets/controls",
      "_view_module_version": "1.5.0",
      "_view_name": "HTMLView",
      "description": "",
      "description_tooltip": null,
      "layout": "IPY_MODEL_a54b1e71711843dfb2b46328a3c33634",
      "placeholder": "​",
      "style": "IPY_MODEL_248ad92dac4149478fee824735a8247d",
      "value": "config.json: 100%"
     }
    },
    "42bf1edc576c4edc94641dc891bca18c": {
     "model_module": "@jupyter-widgets/controls",
     "model_module_version": "1.5.0",
     "model_name": "ProgressStyleModel",
     "state": {
      "_model_module": "@jupyter-widgets/controls",
      "_model_module_version": "1.5.0",
      "_model_name": "ProgressStyleModel",
      "_view_count": null,
      "_view_module": "@jupyter-widgets/base",
      "_view_module_version": "1.2.0",
      "_view_name": "StyleView",
      "bar_color": null,
      "description_width": ""
     }
    },
    "4825984a2e954a6b9a5f15e55ec05da2": {
     "model_module": "@jupyter-widgets/controls",
     "model_module_version": "1.5.0",
     "model_name": "HTMLModel",
     "state": {
      "_dom_classes": [],
      "_model_module": "@jupyter-widgets/controls",
      "_model_module_version": "1.5.0",
      "_model_name": "HTMLModel",
      "_view_count": null,
      "_view_module": "@jupyter-widgets/controls",
      "_view_module_version": "1.5.0",
      "_view_name": "HTMLView",
      "description": "",
      "description_tooltip": null,
      "layout": "IPY_MODEL_fc89349026a941fc99a550a6c07de174",
      "placeholder": "​",
      "style": "IPY_MODEL_d8f06d106f6e4a31994c7f3ab6c82446",
      "value": " 232k/232k [00:00&lt;00:00, 265kB/s]"
     }
    },
    "4bd45891d3c745019ddce21a2a195637": {
     "model_module": "@jupyter-widgets/controls",
     "model_module_version": "1.5.0",
     "model_name": "DescriptionStyleModel",
     "state": {
      "_model_module": "@jupyter-widgets/controls",
      "_model_module_version": "1.5.0",
      "_model_name": "DescriptionStyleModel",
      "_view_count": null,
      "_view_module": "@jupyter-widgets/base",
      "_view_module_version": "1.2.0",
      "_view_name": "StyleView",
      "description_width": ""
     }
    },
    "4fcb6caf54b64858bcad5037d0366e02": {
     "model_module": "@jupyter-widgets/controls",
     "model_module_version": "1.5.0",
     "model_name": "HBoxModel",
     "state": {
      "_dom_classes": [],
      "_model_module": "@jupyter-widgets/controls",
      "_model_module_version": "1.5.0",
      "_model_name": "HBoxModel",
      "_view_count": null,
      "_view_module": "@jupyter-widgets/controls",
      "_view_module_version": "1.5.0",
      "_view_name": "HBoxView",
      "box_style": "",
      "children": [
       "IPY_MODEL_6800c30be313422ea48d13dc37fd5f35",
       "IPY_MODEL_c37d623d89064d3cbb8330716ee41938",
       "IPY_MODEL_4825984a2e954a6b9a5f15e55ec05da2"
      ],
      "layout": "IPY_MODEL_55d2867d1a5a4b2faa36a21fc4c1c09a"
     }
    },
    "508bebddce754e10a69332fc08de6765": {
     "model_module": "@jupyter-widgets/controls",
     "model_module_version": "1.5.0",
     "model_name": "FloatProgressModel",
     "state": {
      "_dom_classes": [],
      "_model_module": "@jupyter-widgets/controls",
      "_model_module_version": "1.5.0",
      "_model_name": "FloatProgressModel",
      "_view_count": null,
      "_view_module": "@jupyter-widgets/controls",
      "_view_module_version": "1.5.0",
      "_view_name": "ProgressView",
      "bar_style": "success",
      "description": "",
      "description_tooltip": null,
      "layout": "IPY_MODEL_704198959a0b47aead0dad47d046ff13",
      "max": 267954768,
      "min": 0,
      "orientation": "horizontal",
      "style": "IPY_MODEL_6d2113c0e3f9433980cf46dd2d480874",
      "value": 267954768
     }
    },
    "5222903fb2914709a6fa7bbc036dab5b": {
     "model_module": "@jupyter-widgets/base",
     "model_module_version": "1.2.0",
     "model_name": "LayoutModel",
     "state": {
      "_model_module": "@jupyter-widgets/base",
      "_model_module_version": "1.2.0",
      "_model_name": "LayoutModel",
      "_view_count": null,
      "_view_module": "@jupyter-widgets/base",
      "_view_module_version": "1.2.0",
      "_view_name": "LayoutView",
      "align_content": null,
      "align_items": null,
      "align_self": null,
      "border": null,
      "bottom": null,
      "display": null,
      "flex": null,
      "flex_flow": null,
      "grid_area": null,
      "grid_auto_columns": null,
      "grid_auto_flow": null,
      "grid_auto_rows": null,
      "grid_column": null,
      "grid_gap": null,
      "grid_row": null,
      "grid_template_areas": null,
      "grid_template_columns": null,
      "grid_template_rows": null,
      "height": null,
      "justify_content": null,
      "justify_items": null,
      "left": null,
      "margin": null,
      "max_height": null,
      "max_width": null,
      "min_height": null,
      "min_width": null,
      "object_fit": null,
      "object_position": null,
      "order": null,
      "overflow": null,
      "overflow_x": null,
      "overflow_y": null,
      "padding": null,
      "right": null,
      "top": null,
      "visibility": null,
      "width": null
     }
    },
    "531e065782fd4447a5a6bce462536eee": {
     "model_module": "@jupyter-widgets/controls",
     "model_module_version": "1.5.0",
     "model_name": "ProgressStyleModel",
     "state": {
      "_model_module": "@jupyter-widgets/controls",
      "_model_module_version": "1.5.0",
      "_model_name": "ProgressStyleModel",
      "_view_count": null,
      "_view_module": "@jupyter-widgets/base",
      "_view_module_version": "1.2.0",
      "_view_name": "StyleView",
      "bar_color": null,
      "description_width": ""
     }
    },
    "55d2867d1a5a4b2faa36a21fc4c1c09a": {
     "model_module": "@jupyter-widgets/base",
     "model_module_version": "1.2.0",
     "model_name": "LayoutModel",
     "state": {
      "_model_module": "@jupyter-widgets/base",
      "_model_module_version": "1.2.0",
      "_model_name": "LayoutModel",
      "_view_count": null,
      "_view_module": "@jupyter-widgets/base",
      "_view_module_version": "1.2.0",
      "_view_name": "LayoutView",
      "align_content": null,
      "align_items": null,
      "align_self": null,
      "border": null,
      "bottom": null,
      "display": null,
      "flex": null,
      "flex_flow": null,
      "grid_area": null,
      "grid_auto_columns": null,
      "grid_auto_flow": null,
      "grid_auto_rows": null,
      "grid_column": null,
      "grid_gap": null,
      "grid_row": null,
      "grid_template_areas": null,
      "grid_template_columns": null,
      "grid_template_rows": null,
      "height": null,
      "justify_content": null,
      "justify_items": null,
      "left": null,
      "margin": null,
      "max_height": null,
      "max_width": null,
      "min_height": null,
      "min_width": null,
      "object_fit": null,
      "object_position": null,
      "order": null,
      "overflow": null,
      "overflow_x": null,
      "overflow_y": null,
      "padding": null,
      "right": null,
      "top": null,
      "visibility": null,
      "width": null
     }
    },
    "56895fff4b204e8f89ae32d2781b98a4": {
     "model_module": "@jupyter-widgets/controls",
     "model_module_version": "1.5.0",
     "model_name": "HBoxModel",
     "state": {
      "_dom_classes": [],
      "_model_module": "@jupyter-widgets/controls",
      "_model_module_version": "1.5.0",
      "_model_name": "HBoxModel",
      "_view_count": null,
      "_view_module": "@jupyter-widgets/controls",
      "_view_module_version": "1.5.0",
      "_view_name": "HBoxView",
      "box_style": "",
      "children": [
       "IPY_MODEL_2ddf01a3d1fc4e89b61efe3e7d307a98",
       "IPY_MODEL_f245df5062d34d6792cb21129d7850af",
       "IPY_MODEL_d9cff58dde0641229cbcd105af666273"
      ],
      "layout": "IPY_MODEL_08d166685c944d32a035f8ce950d7307"
     }
    },
    "625237dfb3864170a8ad46a16aec368e": {
     "model_module": "@jupyter-widgets/controls",
     "model_module_version": "1.5.0",
     "model_name": "HTMLModel",
     "state": {
      "_dom_classes": [],
      "_model_module": "@jupyter-widgets/controls",
      "_model_module_version": "1.5.0",
      "_model_name": "HTMLModel",
      "_view_count": null,
      "_view_module": "@jupyter-widgets/controls",
      "_view_module_version": "1.5.0",
      "_view_name": "HTMLView",
      "description": "",
      "description_tooltip": null,
      "layout": "IPY_MODEL_1362cc0df697433d8cfc4a1035d22185",
      "placeholder": "​",
      "style": "IPY_MODEL_eb83a748eb8f4d1d8e2d145fd4d9f7ba",
      "value": " 483/483 [00:00&lt;00:00, 29.4kB/s]"
     }
    },
    "63332699b6ed458e8ca6bafa7dfbf204": {
     "model_module": "@jupyter-widgets/controls",
     "model_module_version": "1.5.0",
     "model_name": "DescriptionStyleModel",
     "state": {
      "_model_module": "@jupyter-widgets/controls",
      "_model_module_version": "1.5.0",
      "_model_name": "DescriptionStyleModel",
      "_view_count": null,
      "_view_module": "@jupyter-widgets/base",
      "_view_module_version": "1.2.0",
      "_view_name": "StyleView",
      "description_width": ""
     }
    },
    "665dfebdf17146559882de0a318d6479": {
     "model_module": "@jupyter-widgets/base",
     "model_module_version": "1.2.0",
     "model_name": "LayoutModel",
     "state": {
      "_model_module": "@jupyter-widgets/base",
      "_model_module_version": "1.2.0",
      "_model_name": "LayoutModel",
      "_view_count": null,
      "_view_module": "@jupyter-widgets/base",
      "_view_module_version": "1.2.0",
      "_view_name": "LayoutView",
      "align_content": null,
      "align_items": null,
      "align_self": null,
      "border": null,
      "bottom": null,
      "display": null,
      "flex": null,
      "flex_flow": null,
      "grid_area": null,
      "grid_auto_columns": null,
      "grid_auto_flow": null,
      "grid_auto_rows": null,
      "grid_column": null,
      "grid_gap": null,
      "grid_row": null,
      "grid_template_areas": null,
      "grid_template_columns": null,
      "grid_template_rows": null,
      "height": null,
      "justify_content": null,
      "justify_items": null,
      "left": null,
      "margin": null,
      "max_height": null,
      "max_width": null,
      "min_height": null,
      "min_width": null,
      "object_fit": null,
      "object_position": null,
      "order": null,
      "overflow": null,
      "overflow_x": null,
      "overflow_y": null,
      "padding": null,
      "right": null,
      "top": null,
      "visibility": null,
      "width": null
     }
    },
    "6800c30be313422ea48d13dc37fd5f35": {
     "model_module": "@jupyter-widgets/controls",
     "model_module_version": "1.5.0",
     "model_name": "HTMLModel",
     "state": {
      "_dom_classes": [],
      "_model_module": "@jupyter-widgets/controls",
      "_model_module_version": "1.5.0",
      "_model_name": "HTMLModel",
      "_view_count": null,
      "_view_module": "@jupyter-widgets/controls",
      "_view_module_version": "1.5.0",
      "_view_name": "HTMLView",
      "description": "",
      "description_tooltip": null,
      "layout": "IPY_MODEL_a49440ec8fa743c2b64f3e0c5b31e355",
      "placeholder": "​",
      "style": "IPY_MODEL_63332699b6ed458e8ca6bafa7dfbf204",
      "value": "vocab.txt: 100%"
     }
    },
    "6d2113c0e3f9433980cf46dd2d480874": {
     "model_module": "@jupyter-widgets/controls",
     "model_module_version": "1.5.0",
     "model_name": "ProgressStyleModel",
     "state": {
      "_model_module": "@jupyter-widgets/controls",
      "_model_module_version": "1.5.0",
      "_model_name": "ProgressStyleModel",
      "_view_count": null,
      "_view_module": "@jupyter-widgets/base",
      "_view_module_version": "1.2.0",
      "_view_name": "StyleView",
      "bar_color": null,
      "description_width": ""
     }
    },
    "704198959a0b47aead0dad47d046ff13": {
     "model_module": "@jupyter-widgets/base",
     "model_module_version": "1.2.0",
     "model_name": "LayoutModel",
     "state": {
      "_model_module": "@jupyter-widgets/base",
      "_model_module_version": "1.2.0",
      "_model_name": "LayoutModel",
      "_view_count": null,
      "_view_module": "@jupyter-widgets/base",
      "_view_module_version": "1.2.0",
      "_view_name": "LayoutView",
      "align_content": null,
      "align_items": null,
      "align_self": null,
      "border": null,
      "bottom": null,
      "display": null,
      "flex": null,
      "flex_flow": null,
      "grid_area": null,
      "grid_auto_columns": null,
      "grid_auto_flow": null,
      "grid_auto_rows": null,
      "grid_column": null,
      "grid_gap": null,
      "grid_row": null,
      "grid_template_areas": null,
      "grid_template_columns": null,
      "grid_template_rows": null,
      "height": null,
      "justify_content": null,
      "justify_items": null,
      "left": null,
      "margin": null,
      "max_height": null,
      "max_width": null,
      "min_height": null,
      "min_width": null,
      "object_fit": null,
      "object_position": null,
      "order": null,
      "overflow": null,
      "overflow_x": null,
      "overflow_y": null,
      "padding": null,
      "right": null,
      "top": null,
      "visibility": null,
      "width": null
     }
    },
    "75ce8026000d49eca00d92cc726701ad": {
     "model_module": "@jupyter-widgets/controls",
     "model_module_version": "1.5.0",
     "model_name": "DescriptionStyleModel",
     "state": {
      "_model_module": "@jupyter-widgets/controls",
      "_model_module_version": "1.5.0",
      "_model_name": "DescriptionStyleModel",
      "_view_count": null,
      "_view_module": "@jupyter-widgets/base",
      "_view_module_version": "1.2.0",
      "_view_name": "StyleView",
      "description_width": ""
     }
    },
    "8063a9afc12347bcaeaf95546eeca63e": {
     "model_module": "@jupyter-widgets/base",
     "model_module_version": "1.2.0",
     "model_name": "LayoutModel",
     "state": {
      "_model_module": "@jupyter-widgets/base",
      "_model_module_version": "1.2.0",
      "_model_name": "LayoutModel",
      "_view_count": null,
      "_view_module": "@jupyter-widgets/base",
      "_view_module_version": "1.2.0",
      "_view_name": "LayoutView",
      "align_content": null,
      "align_items": null,
      "align_self": null,
      "border": null,
      "bottom": null,
      "display": null,
      "flex": null,
      "flex_flow": null,
      "grid_area": null,
      "grid_auto_columns": null,
      "grid_auto_flow": null,
      "grid_auto_rows": null,
      "grid_column": null,
      "grid_gap": null,
      "grid_row": null,
      "grid_template_areas": null,
      "grid_template_columns": null,
      "grid_template_rows": null,
      "height": null,
      "justify_content": null,
      "justify_items": null,
      "left": null,
      "margin": null,
      "max_height": null,
      "max_width": null,
      "min_height": null,
      "min_width": null,
      "object_fit": null,
      "object_position": null,
      "order": null,
      "overflow": null,
      "overflow_x": null,
      "overflow_y": null,
      "padding": null,
      "right": null,
      "top": null,
      "visibility": null,
      "width": null
     }
    },
    "884cf9f9a5b84b9ebc629b59682323d5": {
     "model_module": "@jupyter-widgets/base",
     "model_module_version": "1.2.0",
     "model_name": "LayoutModel",
     "state": {
      "_model_module": "@jupyter-widgets/base",
      "_model_module_version": "1.2.0",
      "_model_name": "LayoutModel",
      "_view_count": null,
      "_view_module": "@jupyter-widgets/base",
      "_view_module_version": "1.2.0",
      "_view_name": "LayoutView",
      "align_content": null,
      "align_items": null,
      "align_self": null,
      "border": null,
      "bottom": null,
      "display": null,
      "flex": null,
      "flex_flow": null,
      "grid_area": null,
      "grid_auto_columns": null,
      "grid_auto_flow": null,
      "grid_auto_rows": null,
      "grid_column": null,
      "grid_gap": null,
      "grid_row": null,
      "grid_template_areas": null,
      "grid_template_columns": null,
      "grid_template_rows": null,
      "height": null,
      "justify_content": null,
      "justify_items": null,
      "left": null,
      "margin": null,
      "max_height": null,
      "max_width": null,
      "min_height": null,
      "min_width": null,
      "object_fit": null,
      "object_position": null,
      "order": null,
      "overflow": null,
      "overflow_x": null,
      "overflow_y": null,
      "padding": null,
      "right": null,
      "top": null,
      "visibility": null,
      "width": null
     }
    },
    "88f6f52b02a6413fac3d22a03b83a707": {
     "model_module": "@jupyter-widgets/controls",
     "model_module_version": "1.5.0",
     "model_name": "HTMLModel",
     "state": {
      "_dom_classes": [],
      "_model_module": "@jupyter-widgets/controls",
      "_model_module_version": "1.5.0",
      "_model_name": "HTMLModel",
      "_view_count": null,
      "_view_module": "@jupyter-widgets/controls",
      "_view_module_version": "1.5.0",
      "_view_name": "HTMLView",
      "description": "",
      "description_tooltip": null,
      "layout": "IPY_MODEL_884cf9f9a5b84b9ebc629b59682323d5",
      "placeholder": "​",
      "style": "IPY_MODEL_930c59cd358f41498675f84d1193d4d3",
      "value": " 268M/268M [00:12&lt;00:00, 20.2MB/s]"
     }
    },
    "930c59cd358f41498675f84d1193d4d3": {
     "model_module": "@jupyter-widgets/controls",
     "model_module_version": "1.5.0",
     "model_name": "DescriptionStyleModel",
     "state": {
      "_model_module": "@jupyter-widgets/controls",
      "_model_module_version": "1.5.0",
      "_model_name": "DescriptionStyleModel",
      "_view_count": null,
      "_view_module": "@jupyter-widgets/base",
      "_view_module_version": "1.2.0",
      "_view_name": "StyleView",
      "description_width": ""
     }
    },
    "a49440ec8fa743c2b64f3e0c5b31e355": {
     "model_module": "@jupyter-widgets/base",
     "model_module_version": "1.2.0",
     "model_name": "LayoutModel",
     "state": {
      "_model_module": "@jupyter-widgets/base",
      "_model_module_version": "1.2.0",
      "_model_name": "LayoutModel",
      "_view_count": null,
      "_view_module": "@jupyter-widgets/base",
      "_view_module_version": "1.2.0",
      "_view_name": "LayoutView",
      "align_content": null,
      "align_items": null,
      "align_self": null,
      "border": null,
      "bottom": null,
      "display": null,
      "flex": null,
      "flex_flow": null,
      "grid_area": null,
      "grid_auto_columns": null,
      "grid_auto_flow": null,
      "grid_auto_rows": null,
      "grid_column": null,
      "grid_gap": null,
      "grid_row": null,
      "grid_template_areas": null,
      "grid_template_columns": null,
      "grid_template_rows": null,
      "height": null,
      "justify_content": null,
      "justify_items": null,
      "left": null,
      "margin": null,
      "max_height": null,
      "max_width": null,
      "min_height": null,
      "min_width": null,
      "object_fit": null,
      "object_position": null,
      "order": null,
      "overflow": null,
      "overflow_x": null,
      "overflow_y": null,
      "padding": null,
      "right": null,
      "top": null,
      "visibility": null,
      "width": null
     }
    },
    "a4fab1f665264fff89a1ea118f5a0e7e": {
     "model_module": "@jupyter-widgets/base",
     "model_module_version": "1.2.0",
     "model_name": "LayoutModel",
     "state": {
      "_model_module": "@jupyter-widgets/base",
      "_model_module_version": "1.2.0",
      "_model_name": "LayoutModel",
      "_view_count": null,
      "_view_module": "@jupyter-widgets/base",
      "_view_module_version": "1.2.0",
      "_view_name": "LayoutView",
      "align_content": null,
      "align_items": null,
      "align_self": null,
      "border": null,
      "bottom": null,
      "display": null,
      "flex": null,
      "flex_flow": null,
      "grid_area": null,
      "grid_auto_columns": null,
      "grid_auto_flow": null,
      "grid_auto_rows": null,
      "grid_column": null,
      "grid_gap": null,
      "grid_row": null,
      "grid_template_areas": null,
      "grid_template_columns": null,
      "grid_template_rows": null,
      "height": null,
      "justify_content": null,
      "justify_items": null,
      "left": null,
      "margin": null,
      "max_height": null,
      "max_width": null,
      "min_height": null,
      "min_width": null,
      "object_fit": null,
      "object_position": null,
      "order": null,
      "overflow": null,
      "overflow_x": null,
      "overflow_y": null,
      "padding": null,
      "right": null,
      "top": null,
      "visibility": null,
      "width": null
     }
    },
    "a54b1e71711843dfb2b46328a3c33634": {
     "model_module": "@jupyter-widgets/base",
     "model_module_version": "1.2.0",
     "model_name": "LayoutModel",
     "state": {
      "_model_module": "@jupyter-widgets/base",
      "_model_module_version": "1.2.0",
      "_model_name": "LayoutModel",
      "_view_count": null,
      "_view_module": "@jupyter-widgets/base",
      "_view_module_version": "1.2.0",
      "_view_name": "LayoutView",
      "align_content": null,
      "align_items": null,
      "align_self": null,
      "border": null,
      "bottom": null,
      "display": null,
      "flex": null,
      "flex_flow": null,
      "grid_area": null,
      "grid_auto_columns": null,
      "grid_auto_flow": null,
      "grid_auto_rows": null,
      "grid_column": null,
      "grid_gap": null,
      "grid_row": null,
      "grid_template_areas": null,
      "grid_template_columns": null,
      "grid_template_rows": null,
      "height": null,
      "justify_content": null,
      "justify_items": null,
      "left": null,
      "margin": null,
      "max_height": null,
      "max_width": null,
      "min_height": null,
      "min_width": null,
      "object_fit": null,
      "object_position": null,
      "order": null,
      "overflow": null,
      "overflow_x": null,
      "overflow_y": null,
      "padding": null,
      "right": null,
      "top": null,
      "visibility": null,
      "width": null
     }
    },
    "aef28cf0bd42451198f2908a7c564b72": {
     "model_module": "@jupyter-widgets/controls",
     "model_module_version": "1.5.0",
     "model_name": "HTMLModel",
     "state": {
      "_dom_classes": [],
      "_model_module": "@jupyter-widgets/controls",
      "_model_module_version": "1.5.0",
      "_model_name": "HTMLModel",
      "_view_count": null,
      "_view_module": "@jupyter-widgets/controls",
      "_view_module_version": "1.5.0",
      "_view_name": "HTMLView",
      "description": "",
      "description_tooltip": null,
      "layout": "IPY_MODEL_28693a2df3a9451fa23577faed5c7780",
      "placeholder": "​",
      "style": "IPY_MODEL_4bd45891d3c745019ddce21a2a195637",
      "value": "model.safetensors: 100%"
     }
    },
    "b65c416be1d04ca9a278599a79eba458": {
     "model_module": "@jupyter-widgets/controls",
     "model_module_version": "1.5.0",
     "model_name": "HBoxModel",
     "state": {
      "_dom_classes": [],
      "_model_module": "@jupyter-widgets/controls",
      "_model_module_version": "1.5.0",
      "_model_name": "HBoxModel",
      "_view_count": null,
      "_view_module": "@jupyter-widgets/controls",
      "_view_module_version": "1.5.0",
      "_view_name": "HBoxView",
      "box_style": "",
      "children": [
       "IPY_MODEL_394f04b2ad244da79caf73c6c234fd77",
       "IPY_MODEL_c26266c46f1d4733befc98856e047e22",
       "IPY_MODEL_b9cbad0c96e149c7a67fd63531238edc"
      ],
      "layout": "IPY_MODEL_db02622363344c4292e9e6d284621e17"
     }
    },
    "b9cbad0c96e149c7a67fd63531238edc": {
     "model_module": "@jupyter-widgets/controls",
     "model_module_version": "1.5.0",
     "model_name": "HTMLModel",
     "state": {
      "_dom_classes": [],
      "_model_module": "@jupyter-widgets/controls",
      "_model_module_version": "1.5.0",
      "_model_name": "HTMLModel",
      "_view_count": null,
      "_view_module": "@jupyter-widgets/controls",
      "_view_module_version": "1.5.0",
      "_view_name": "HTMLView",
      "description": "",
      "description_tooltip": null,
      "layout": "IPY_MODEL_120688426b82495a8d4514356748d759",
      "placeholder": "​",
      "style": "IPY_MODEL_25ea6097cde9427186daca7e5dd1bd94",
      "value": " 48.0/48.0 [00:00&lt;00:00, 2.35kB/s]"
     }
    },
    "bf74f79aaff04a38be64fc9344733d80": {
     "model_module": "@jupyter-widgets/controls",
     "model_module_version": "1.5.0",
     "model_name": "HBoxModel",
     "state": {
      "_dom_classes": [],
      "_model_module": "@jupyter-widgets/controls",
      "_model_module_version": "1.5.0",
      "_model_name": "HBoxModel",
      "_view_count": null,
      "_view_module": "@jupyter-widgets/controls",
      "_view_module_version": "1.5.0",
      "_view_name": "HBoxView",
      "box_style": "",
      "children": [
       "IPY_MODEL_3cea425ca88b43089dd8362cfadb7b26",
       "IPY_MODEL_1462cd05fed64d9ea813b6fd50d71f29",
       "IPY_MODEL_625237dfb3864170a8ad46a16aec368e"
      ],
      "layout": "IPY_MODEL_d28378efbabd45dda51e8c8bd7243b3a"
     }
    },
    "c26266c46f1d4733befc98856e047e22": {
     "model_module": "@jupyter-widgets/controls",
     "model_module_version": "1.5.0",
     "model_name": "FloatProgressModel",
     "state": {
      "_dom_classes": [],
      "_model_module": "@jupyter-widgets/controls",
      "_model_module_version": "1.5.0",
      "_model_name": "FloatProgressModel",
      "_view_count": null,
      "_view_module": "@jupyter-widgets/controls",
      "_view_module_version": "1.5.0",
      "_view_name": "ProgressView",
      "bar_style": "success",
      "description": "",
      "description_tooltip": null,
      "layout": "IPY_MODEL_8063a9afc12347bcaeaf95546eeca63e",
      "max": 48,
      "min": 0,
      "orientation": "horizontal",
      "style": "IPY_MODEL_531e065782fd4447a5a6bce462536eee",
      "value": 48
     }
    },
    "c37d623d89064d3cbb8330716ee41938": {
     "model_module": "@jupyter-widgets/controls",
     "model_module_version": "1.5.0",
     "model_name": "FloatProgressModel",
     "state": {
      "_dom_classes": [],
      "_model_module": "@jupyter-widgets/controls",
      "_model_module_version": "1.5.0",
      "_model_name": "FloatProgressModel",
      "_view_count": null,
      "_view_module": "@jupyter-widgets/controls",
      "_view_module_version": "1.5.0",
      "_view_name": "ProgressView",
      "bar_style": "success",
      "description": "",
      "description_tooltip": null,
      "layout": "IPY_MODEL_d162986f4e894801b306c3e7aeec8fac",
      "max": 231508,
      "min": 0,
      "orientation": "horizontal",
      "style": "IPY_MODEL_d5f37d55137d43e69c5000a316796aea",
      "value": 231508
     }
    },
    "c54ad50d14384d63baaef77de5b8c797": {
     "model_module": "@jupyter-widgets/base",
     "model_module_version": "1.2.0",
     "model_name": "LayoutModel",
     "state": {
      "_model_module": "@jupyter-widgets/base",
      "_model_module_version": "1.2.0",
      "_model_name": "LayoutModel",
      "_view_count": null,
      "_view_module": "@jupyter-widgets/base",
      "_view_module_version": "1.2.0",
      "_view_name": "LayoutView",
      "align_content": null,
      "align_items": null,
      "align_self": null,
      "border": null,
      "bottom": null,
      "display": null,
      "flex": null,
      "flex_flow": null,
      "grid_area": null,
      "grid_auto_columns": null,
      "grid_auto_flow": null,
      "grid_auto_rows": null,
      "grid_column": null,
      "grid_gap": null,
      "grid_row": null,
      "grid_template_areas": null,
      "grid_template_columns": null,
      "grid_template_rows": null,
      "height": null,
      "justify_content": null,
      "justify_items": null,
      "left": null,
      "margin": null,
      "max_height": null,
      "max_width": null,
      "min_height": null,
      "min_width": null,
      "object_fit": null,
      "object_position": null,
      "order": null,
      "overflow": null,
      "overflow_x": null,
      "overflow_y": null,
      "padding": null,
      "right": null,
      "top": null,
      "visibility": null,
      "width": null
     }
    },
    "c71071a7185f40aaba316c429d65e4f2": {
     "model_module": "@jupyter-widgets/controls",
     "model_module_version": "1.5.0",
     "model_name": "DescriptionStyleModel",
     "state": {
      "_model_module": "@jupyter-widgets/controls",
      "_model_module_version": "1.5.0",
      "_model_name": "DescriptionStyleModel",
      "_view_count": null,
      "_view_module": "@jupyter-widgets/base",
      "_view_module_version": "1.2.0",
      "_view_name": "StyleView",
      "description_width": ""
     }
    },
    "cdeab3a5684e42ae88597f180e1e5c05": {
     "model_module": "@jupyter-widgets/controls",
     "model_module_version": "1.5.0",
     "model_name": "DescriptionStyleModel",
     "state": {
      "_model_module": "@jupyter-widgets/controls",
      "_model_module_version": "1.5.0",
      "_model_name": "DescriptionStyleModel",
      "_view_count": null,
      "_view_module": "@jupyter-widgets/base",
      "_view_module_version": "1.2.0",
      "_view_name": "StyleView",
      "description_width": ""
     }
    },
    "d162986f4e894801b306c3e7aeec8fac": {
     "model_module": "@jupyter-widgets/base",
     "model_module_version": "1.2.0",
     "model_name": "LayoutModel",
     "state": {
      "_model_module": "@jupyter-widgets/base",
      "_model_module_version": "1.2.0",
      "_model_name": "LayoutModel",
      "_view_count": null,
      "_view_module": "@jupyter-widgets/base",
      "_view_module_version": "1.2.0",
      "_view_name": "LayoutView",
      "align_content": null,
      "align_items": null,
      "align_self": null,
      "border": null,
      "bottom": null,
      "display": null,
      "flex": null,
      "flex_flow": null,
      "grid_area": null,
      "grid_auto_columns": null,
      "grid_auto_flow": null,
      "grid_auto_rows": null,
      "grid_column": null,
      "grid_gap": null,
      "grid_row": null,
      "grid_template_areas": null,
      "grid_template_columns": null,
      "grid_template_rows": null,
      "height": null,
      "justify_content": null,
      "justify_items": null,
      "left": null,
      "margin": null,
      "max_height": null,
      "max_width": null,
      "min_height": null,
      "min_width": null,
      "object_fit": null,
      "object_position": null,
      "order": null,
      "overflow": null,
      "overflow_x": null,
      "overflow_y": null,
      "padding": null,
      "right": null,
      "top": null,
      "visibility": null,
      "width": null
     }
    },
    "d28378efbabd45dda51e8c8bd7243b3a": {
     "model_module": "@jupyter-widgets/base",
     "model_module_version": "1.2.0",
     "model_name": "LayoutModel",
     "state": {
      "_model_module": "@jupyter-widgets/base",
      "_model_module_version": "1.2.0",
      "_model_name": "LayoutModel",
      "_view_count": null,
      "_view_module": "@jupyter-widgets/base",
      "_view_module_version": "1.2.0",
      "_view_name": "LayoutView",
      "align_content": null,
      "align_items": null,
      "align_self": null,
      "border": null,
      "bottom": null,
      "display": null,
      "flex": null,
      "flex_flow": null,
      "grid_area": null,
      "grid_auto_columns": null,
      "grid_auto_flow": null,
      "grid_auto_rows": null,
      "grid_column": null,
      "grid_gap": null,
      "grid_row": null,
      "grid_template_areas": null,
      "grid_template_columns": null,
      "grid_template_rows": null,
      "height": null,
      "justify_content": null,
      "justify_items": null,
      "left": null,
      "margin": null,
      "max_height": null,
      "max_width": null,
      "min_height": null,
      "min_width": null,
      "object_fit": null,
      "object_position": null,
      "order": null,
      "overflow": null,
      "overflow_x": null,
      "overflow_y": null,
      "padding": null,
      "right": null,
      "top": null,
      "visibility": null,
      "width": null
     }
    },
    "d5f37d55137d43e69c5000a316796aea": {
     "model_module": "@jupyter-widgets/controls",
     "model_module_version": "1.5.0",
     "model_name": "ProgressStyleModel",
     "state": {
      "_model_module": "@jupyter-widgets/controls",
      "_model_module_version": "1.5.0",
      "_model_name": "ProgressStyleModel",
      "_view_count": null,
      "_view_module": "@jupyter-widgets/base",
      "_view_module_version": "1.2.0",
      "_view_name": "StyleView",
      "bar_color": null,
      "description_width": ""
     }
    },
    "d8f06d106f6e4a31994c7f3ab6c82446": {
     "model_module": "@jupyter-widgets/controls",
     "model_module_version": "1.5.0",
     "model_name": "DescriptionStyleModel",
     "state": {
      "_model_module": "@jupyter-widgets/controls",
      "_model_module_version": "1.5.0",
      "_model_name": "DescriptionStyleModel",
      "_view_count": null,
      "_view_module": "@jupyter-widgets/base",
      "_view_module_version": "1.2.0",
      "_view_name": "StyleView",
      "description_width": ""
     }
    },
    "d9cff58dde0641229cbcd105af666273": {
     "model_module": "@jupyter-widgets/controls",
     "model_module_version": "1.5.0",
     "model_name": "HTMLModel",
     "state": {
      "_dom_classes": [],
      "_model_module": "@jupyter-widgets/controls",
      "_model_module_version": "1.5.0",
      "_model_name": "HTMLModel",
      "_view_count": null,
      "_view_module": "@jupyter-widgets/controls",
      "_view_module_version": "1.5.0",
      "_view_name": "HTMLView",
      "description": "",
      "description_tooltip": null,
      "layout": "IPY_MODEL_665dfebdf17146559882de0a318d6479",
      "placeholder": "​",
      "style": "IPY_MODEL_cdeab3a5684e42ae88597f180e1e5c05",
      "value": " 466k/466k [00:00&lt;00:00, 18.1MB/s]"
     }
    },
    "db02622363344c4292e9e6d284621e17": {
     "model_module": "@jupyter-widgets/base",
     "model_module_version": "1.2.0",
     "model_name": "LayoutModel",
     "state": {
      "_model_module": "@jupyter-widgets/base",
      "_model_module_version": "1.2.0",
      "_model_name": "LayoutModel",
      "_view_count": null,
      "_view_module": "@jupyter-widgets/base",
      "_view_module_version": "1.2.0",
      "_view_name": "LayoutView",
      "align_content": null,
      "align_items": null,
      "align_self": null,
      "border": null,
      "bottom": null,
      "display": null,
      "flex": null,
      "flex_flow": null,
      "grid_area": null,
      "grid_auto_columns": null,
      "grid_auto_flow": null,
      "grid_auto_rows": null,
      "grid_column": null,
      "grid_gap": null,
      "grid_row": null,
      "grid_template_areas": null,
      "grid_template_columns": null,
      "grid_template_rows": null,
      "height": null,
      "justify_content": null,
      "justify_items": null,
      "left": null,
      "margin": null,
      "max_height": null,
      "max_width": null,
      "min_height": null,
      "min_width": null,
      "object_fit": null,
      "object_position": null,
      "order": null,
      "overflow": null,
      "overflow_x": null,
      "overflow_y": null,
      "padding": null,
      "right": null,
      "top": null,
      "visibility": null,
      "width": null
     }
    },
    "deba18ac27554ba9b94349155e8f69ab": {
     "model_module": "@jupyter-widgets/controls",
     "model_module_version": "1.5.0",
     "model_name": "ProgressStyleModel",
     "state": {
      "_model_module": "@jupyter-widgets/controls",
      "_model_module_version": "1.5.0",
      "_model_name": "ProgressStyleModel",
      "_view_count": null,
      "_view_module": "@jupyter-widgets/base",
      "_view_module_version": "1.2.0",
      "_view_name": "StyleView",
      "bar_color": null,
      "description_width": ""
     }
    },
    "e6de0df39691476b8092cee17f3af3b1": {
     "model_module": "@jupyter-widgets/base",
     "model_module_version": "1.2.0",
     "model_name": "LayoutModel",
     "state": {
      "_model_module": "@jupyter-widgets/base",
      "_model_module_version": "1.2.0",
      "_model_name": "LayoutModel",
      "_view_count": null,
      "_view_module": "@jupyter-widgets/base",
      "_view_module_version": "1.2.0",
      "_view_name": "LayoutView",
      "align_content": null,
      "align_items": null,
      "align_self": null,
      "border": null,
      "bottom": null,
      "display": null,
      "flex": null,
      "flex_flow": null,
      "grid_area": null,
      "grid_auto_columns": null,
      "grid_auto_flow": null,
      "grid_auto_rows": null,
      "grid_column": null,
      "grid_gap": null,
      "grid_row": null,
      "grid_template_areas": null,
      "grid_template_columns": null,
      "grid_template_rows": null,
      "height": null,
      "justify_content": null,
      "justify_items": null,
      "left": null,
      "margin": null,
      "max_height": null,
      "max_width": null,
      "min_height": null,
      "min_width": null,
      "object_fit": null,
      "object_position": null,
      "order": null,
      "overflow": null,
      "overflow_x": null,
      "overflow_y": null,
      "padding": null,
      "right": null,
      "top": null,
      "visibility": null,
      "width": null
     }
    },
    "eb83a748eb8f4d1d8e2d145fd4d9f7ba": {
     "model_module": "@jupyter-widgets/controls",
     "model_module_version": "1.5.0",
     "model_name": "DescriptionStyleModel",
     "state": {
      "_model_module": "@jupyter-widgets/controls",
      "_model_module_version": "1.5.0",
      "_model_name": "DescriptionStyleModel",
      "_view_count": null,
      "_view_module": "@jupyter-widgets/base",
      "_view_module_version": "1.2.0",
      "_view_name": "StyleView",
      "description_width": ""
     }
    },
    "f245df5062d34d6792cb21129d7850af": {
     "model_module": "@jupyter-widgets/controls",
     "model_module_version": "1.5.0",
     "model_name": "FloatProgressModel",
     "state": {
      "_dom_classes": [],
      "_model_module": "@jupyter-widgets/controls",
      "_model_module_version": "1.5.0",
      "_model_name": "FloatProgressModel",
      "_view_count": null,
      "_view_module": "@jupyter-widgets/controls",
      "_view_module_version": "1.5.0",
      "_view_name": "ProgressView",
      "bar_style": "success",
      "description": "",
      "description_tooltip": null,
      "layout": "IPY_MODEL_393599e93fe245d19308bfe9d7e3d8c1",
      "max": 466062,
      "min": 0,
      "orientation": "horizontal",
      "style": "IPY_MODEL_deba18ac27554ba9b94349155e8f69ab",
      "value": 466062
     }
    },
    "fc89349026a941fc99a550a6c07de174": {
     "model_module": "@jupyter-widgets/base",
     "model_module_version": "1.2.0",
     "model_name": "LayoutModel",
     "state": {
      "_model_module": "@jupyter-widgets/base",
      "_model_module_version": "1.2.0",
      "_model_name": "LayoutModel",
      "_view_count": null,
      "_view_module": "@jupyter-widgets/base",
      "_view_module_version": "1.2.0",
      "_view_name": "LayoutView",
      "align_content": null,
      "align_items": null,
      "align_self": null,
      "border": null,
      "bottom": null,
      "display": null,
      "flex": null,
      "flex_flow": null,
      "grid_area": null,
      "grid_auto_columns": null,
      "grid_auto_flow": null,
      "grid_auto_rows": null,
      "grid_column": null,
      "grid_gap": null,
      "grid_row": null,
      "grid_template_areas": null,
      "grid_template_columns": null,
      "grid_template_rows": null,
      "height": null,
      "justify_content": null,
      "justify_items": null,
      "left": null,
      "margin": null,
      "max_height": null,
      "max_width": null,
      "min_height": null,
      "min_width": null,
      "object_fit": null,
      "object_position": null,
      "order": null,
      "overflow": null,
      "overflow_x": null,
      "overflow_y": null,
      "padding": null,
      "right": null,
      "top": null,
      "visibility": null,
      "width": null
     }
    }
   }
  }
 },
 "nbformat": 4,
 "nbformat_minor": 1
}
